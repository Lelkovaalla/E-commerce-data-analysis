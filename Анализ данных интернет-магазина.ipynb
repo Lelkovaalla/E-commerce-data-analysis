{
 "cells": [
  {
   "cell_type": "markdown",
   "metadata": {},
   "source": [
    "# Анализ данных интернет-магазина\n",
    "\n",
    "### Заказчик передал данные интернет-магазина, состоящие из трех таблиц:\n",
    "\n",
    "#### olist_customers_datase.csv — таблица с уникальными идентификаторами пользователей\n",
    "\n",
    "customer_id — позаказный идентификатор пользователя\n",
    "\n",
    "customer_unique_id —  уникальный идентификатор пользователя  (аналог номера паспорта)\n",
    "\n",
    "customer_zip_code_prefix —  почтовый индекс пользователя\n",
    "\n",
    "customer_city —  город доставки пользователя\n",
    "\n",
    "customer_state —  штат доставки пользователя\n",
    "\n",
    "#### olist_orders_dataset.csv —  таблица заказов\n",
    "\n",
    "order_id —  уникальный идентификатор заказа (номер чека)\n",
    "\n",
    "customer_id —  позаказный идентификатор пользователя\n",
    "\n",
    "order_status —  статус заказа\n",
    "\n",
    "order_purchase_timestamp —  время создания заказа\n",
    "\n",
    "order_approved_at —  время подтверждения оплаты заказа\n",
    "\n",
    "order_delivered_carrier_date —  время передачи заказа в логистическую службу\n",
    "\n",
    "order_delivered_customer_date —  время доставки заказа\n",
    "\n",
    "order_estimated_delivery_date —  обещанная дата доставки\n",
    "\n",
    "#### olist_order_items_dataset.csv —  товарные позиции, входящие в заказы\n",
    "\n",
    "order_id —  уникальный идентификатор заказа (номер чека)\n",
    "\n",
    "order_item_id —  идентификатор товара внутри одного заказа\n",
    "\n",
    "product_id —  ид товара (аналог штрихкода)\n",
    "\n",
    "seller_id — ид производителя товара\n",
    "\n",
    "shipping_limit_date —  максимальная дата доставки продавцом для передачи заказа партнеру по логистике\n",
    "\n",
    "price —  цена за единицу товара\n",
    "\n",
    "freight_value —  вес товара\n",
    "\n",
    "#### Уникальные статусы заказов в таблице olist_orders_dataset:\n",
    "\n",
    "- created —  создан\n",
    "- approved —  подтверждён\n",
    "- invoiced —  выставлен счёт\n",
    "- processing —  в процессе сборки заказа\n",
    "- shipped —  отгружен со склада\n",
    "- delivered —  доставлен пользователю\n",
    "- unavailable —  недоступен\n",
    "- canceled —  отменён\n",
    "\n",
    "### Задача - проанализировать данные, и дать комментарии бизнесу о состоянии дел в маркетплейсе."
   ]
  },
  {
   "cell_type": "code",
   "execution_count": 1,
   "metadata": {},
   "outputs": [],
   "source": [
    "# импорт необходимых библиотек\n",
    "import requests\n",
    "from io import BytesIO\n",
    "import pandas as pd\n",
    "import numpy as np\n",
    "from datetime import timedelta\n",
    "from datetime import datetime\n",
    "from io import StringIO\n",
    "from urllib.parse import urlencode\n",
    "import copy\n",
    "import seaborn as sns\n",
    "import matplotlib.pyplot as plt"
   ]
  },
  {
   "cell_type": "markdown",
   "metadata": {},
   "source": [
    "### Выгрузка данных с Яндекс.Диска\n",
    "\n",
    "Для начала выгрузим данные с диска. Для этого напишем функцию, которая принимает на вход ссылку для скачивания данных, скачивает таблицы и записывает их в датасеты:"
   ]
  },
  {
   "cell_type": "code",
   "execution_count": 2,
   "metadata": {},
   "outputs": [],
   "source": [
    "def get_data(link):\n",
    "    base_url = 'https://cloud-api.yandex.net/v1/disk/public/resources/download?'\n",
    "    final_url = base_url + urlencode(dict(public_key=link))\n",
    "    response = requests.get(final_url)\n",
    "    download_url = response.json().get('href')\n",
    "    download_response = requests.get(download_url)\n",
    "    return download_response.content  "
   ]
  },
  {
   "cell_type": "code",
   "execution_count": 3,
   "metadata": {},
   "outputs": [],
   "source": [
    "# выгружаем таблицу с пользователями с применением написанной ранее функции\n",
    "link = 'https://disk.yandex.ru/d/QXrVDUoQvFhIcg'\n",
    "file_content = get_data(link)  \n",
    "customers = pd.read_csv(StringIO(file_content.decode('utf-8')))  "
   ]
  },
  {
   "cell_type": "code",
   "execution_count": 4,
   "metadata": {},
   "outputs": [],
   "source": [
    "# выгружаем таблицу с заказами с применением написанной ранее функции\n",
    "link = 'https://disk.yandex.ru/d/0zWmh1bYP6REbw'\n",
    "file_content = get_data(link)  \n",
    "orders = pd.read_csv(StringIO(file_content.decode('utf-8')), parse_dates=[\n",
    "            'order_delivered_carrier_date',\n",
    "            'order_delivered_customer_date',\n",
    "            'order_estimated_delivery_date',\n",
    "            'order_purchase_timestamp',\n",
    "            'order_approved_at'\n",
    "        ]) "
   ]
  },
  {
   "cell_type": "code",
   "execution_count": 5,
   "metadata": {},
   "outputs": [],
   "source": [
    "# выгружаем таблицу с товарами с применением написанной ранее функции\n",
    "link = 'https://disk.yandex.ru/d/xCsQ0FiC-Ue4Lg'\n",
    "file_content = get_data(link)  \n",
    "items = pd.read_csv(StringIO(file_content.decode('utf-8')), parse_dates=['shipping_limit_date']) "
   ]
  },
  {
   "cell_type": "markdown",
   "metadata": {},
   "source": [
    "### Разведочный анализ"
   ]
  },
  {
   "cell_type": "markdown",
   "metadata": {},
   "source": [
    "Теперь, когда данные скачаны, нужно провести проверочный анализ для каждой из таблиц, чтобы понимать контекст, и нужна ли предобработка данных"
   ]
  },
  {
   "cell_type": "markdown",
   "metadata": {},
   "source": [
    "#### Таблица с покупателями"
   ]
  },
  {
   "cell_type": "code",
   "execution_count": 6,
   "metadata": {},
   "outputs": [
    {
     "name": "stdout",
     "output_type": "stream",
     "text": [
      "<class 'pandas.core.frame.DataFrame'>\n",
      "RangeIndex: 99441 entries, 0 to 99440\n",
      "Data columns (total 5 columns):\n",
      " #   Column                    Non-Null Count  Dtype \n",
      "---  ------                    --------------  ----- \n",
      " 0   customer_id               99441 non-null  object\n",
      " 1   customer_unique_id        99441 non-null  object\n",
      " 2   customer_zip_code_prefix  99441 non-null  int64 \n",
      " 3   customer_city             99441 non-null  object\n",
      " 4   customer_state            99441 non-null  object\n",
      "dtypes: int64(1), object(4)\n",
      "memory usage: 3.8+ MB\n"
     ]
    }
   ],
   "source": [
    "# посмотрим на типы данных в таблице с покупателями\n",
    "customers.info()"
   ]
  },
  {
   "cell_type": "code",
   "execution_count": 7,
   "metadata": {},
   "outputs": [
    {
     "data": {
      "text/html": [
       "<div>\n",
       "<style scoped>\n",
       "    .dataframe tbody tr th:only-of-type {\n",
       "        vertical-align: middle;\n",
       "    }\n",
       "\n",
       "    .dataframe tbody tr th {\n",
       "        vertical-align: top;\n",
       "    }\n",
       "\n",
       "    .dataframe thead th {\n",
       "        text-align: right;\n",
       "    }\n",
       "</style>\n",
       "<table border=\"1\" class=\"dataframe\">\n",
       "  <thead>\n",
       "    <tr style=\"text-align: right;\">\n",
       "      <th></th>\n",
       "      <th>customer_id</th>\n",
       "      <th>customer_unique_id</th>\n",
       "      <th>customer_city</th>\n",
       "      <th>customer_state</th>\n",
       "    </tr>\n",
       "  </thead>\n",
       "  <tbody>\n",
       "    <tr>\n",
       "      <th>count</th>\n",
       "      <td>99441</td>\n",
       "      <td>99441</td>\n",
       "      <td>99441</td>\n",
       "      <td>99441</td>\n",
       "    </tr>\n",
       "    <tr>\n",
       "      <th>unique</th>\n",
       "      <td>99441</td>\n",
       "      <td>96096</td>\n",
       "      <td>4119</td>\n",
       "      <td>27</td>\n",
       "    </tr>\n",
       "    <tr>\n",
       "      <th>top</th>\n",
       "      <td>5a0dc6805a195218a4e448653dee4740</td>\n",
       "      <td>8d50f5eadf50201ccdcedfb9e2ac8455</td>\n",
       "      <td>sao paulo</td>\n",
       "      <td>SP</td>\n",
       "    </tr>\n",
       "    <tr>\n",
       "      <th>freq</th>\n",
       "      <td>1</td>\n",
       "      <td>17</td>\n",
       "      <td>15540</td>\n",
       "      <td>41746</td>\n",
       "    </tr>\n",
       "  </tbody>\n",
       "</table>\n",
       "</div>"
      ],
      "text/plain": [
       "                             customer_id                customer_unique_id  \\\n",
       "count                              99441                             99441   \n",
       "unique                             99441                             96096   \n",
       "top     5a0dc6805a195218a4e448653dee4740  8d50f5eadf50201ccdcedfb9e2ac8455   \n",
       "freq                                   1                                17   \n",
       "\n",
       "       customer_city customer_state  \n",
       "count          99441          99441  \n",
       "unique          4119             27  \n",
       "top        sao paulo             SP  \n",
       "freq           15540          41746  "
      ]
     },
     "execution_count": 7,
     "metadata": {},
     "output_type": "execute_result"
    }
   ],
   "source": [
    "customers.describe(include='object')"
   ]
  },
  {
   "cell_type": "code",
   "execution_count": 8,
   "metadata": {},
   "outputs": [
    {
     "data": {
      "text/html": [
       "<div>\n",
       "<style scoped>\n",
       "    .dataframe tbody tr th:only-of-type {\n",
       "        vertical-align: middle;\n",
       "    }\n",
       "\n",
       "    .dataframe tbody tr th {\n",
       "        vertical-align: top;\n",
       "    }\n",
       "\n",
       "    .dataframe thead th {\n",
       "        text-align: right;\n",
       "    }\n",
       "</style>\n",
       "<table border=\"1\" class=\"dataframe\">\n",
       "  <thead>\n",
       "    <tr style=\"text-align: right;\">\n",
       "      <th></th>\n",
       "      <th>customer_state</th>\n",
       "      <th>customer_city</th>\n",
       "      <th>customer_id</th>\n",
       "    </tr>\n",
       "  </thead>\n",
       "  <tbody>\n",
       "    <tr>\n",
       "      <th>4176</th>\n",
       "      <td>SP</td>\n",
       "      <td>sao paulo</td>\n",
       "      <td>15540</td>\n",
       "    </tr>\n",
       "    <tr>\n",
       "      <th>2788</th>\n",
       "      <td>RJ</td>\n",
       "      <td>rio de janeiro</td>\n",
       "      <td>6882</td>\n",
       "    </tr>\n",
       "    <tr>\n",
       "      <th>1062</th>\n",
       "      <td>MG</td>\n",
       "      <td>belo horizonte</td>\n",
       "      <td>2773</td>\n",
       "    </tr>\n",
       "    <tr>\n",
       "      <th>601</th>\n",
       "      <td>DF</td>\n",
       "      <td>brasilia</td>\n",
       "      <td>2131</td>\n",
       "    </tr>\n",
       "    <tr>\n",
       "      <th>2406</th>\n",
       "      <td>PR</td>\n",
       "      <td>curitiba</td>\n",
       "      <td>1521</td>\n",
       "    </tr>\n",
       "    <tr>\n",
       "      <th>...</th>\n",
       "      <td>...</td>\n",
       "      <td>...</td>\n",
       "      <td>...</td>\n",
       "    </tr>\n",
       "    <tr>\n",
       "      <th>3037</th>\n",
       "      <td>RS</td>\n",
       "      <td>cerro grande</td>\n",
       "      <td>1</td>\n",
       "    </tr>\n",
       "    <tr>\n",
       "      <th>3036</th>\n",
       "      <td>RS</td>\n",
       "      <td>cerrito</td>\n",
       "      <td>1</td>\n",
       "    </tr>\n",
       "    <tr>\n",
       "      <th>3033</th>\n",
       "      <td>RS</td>\n",
       "      <td>caseiros</td>\n",
       "      <td>1</td>\n",
       "    </tr>\n",
       "    <tr>\n",
       "      <th>1316</th>\n",
       "      <td>MG</td>\n",
       "      <td>ipuiuna</td>\n",
       "      <td>1</td>\n",
       "    </tr>\n",
       "    <tr>\n",
       "      <th>0</th>\n",
       "      <td>AC</td>\n",
       "      <td>brasileia</td>\n",
       "      <td>1</td>\n",
       "    </tr>\n",
       "  </tbody>\n",
       "</table>\n",
       "<p>4310 rows × 3 columns</p>\n",
       "</div>"
      ],
      "text/plain": [
       "     customer_state   customer_city  customer_id\n",
       "4176             SP       sao paulo        15540\n",
       "2788             RJ  rio de janeiro         6882\n",
       "1062             MG  belo horizonte         2773\n",
       "601              DF        brasilia         2131\n",
       "2406             PR        curitiba         1521\n",
       "...             ...             ...          ...\n",
       "3037             RS    cerro grande            1\n",
       "3036             RS         cerrito            1\n",
       "3033             RS        caseiros            1\n",
       "1316             MG         ipuiuna            1\n",
       "0                AC       brasileia            1\n",
       "\n",
       "[4310 rows x 3 columns]"
      ]
     },
     "execution_count": 8,
     "metadata": {},
     "output_type": "execute_result"
    }
   ],
   "source": [
    "customers.groupby(['customer_state', 'customer_city'], as_index = False)['customer_id'].count().sort_values('customer_id', ascending = False)"
   ]
  },
  {
   "cell_type": "markdown",
   "metadata": {},
   "source": [
    "У нас собраны данные о пользователях из 27 штатов Бразилии. Больше всего пользователей - из Сан-Паулу. "
   ]
  },
  {
   "cell_type": "code",
   "execution_count": 9,
   "metadata": {},
   "outputs": [
    {
     "data": {
      "text/plain": [
       "customer_id                 0\n",
       "customer_unique_id          0\n",
       "customer_zip_code_prefix    0\n",
       "customer_city               0\n",
       "customer_state              0\n",
       "dtype: int64"
      ]
     },
     "execution_count": 9,
     "metadata": {},
     "output_type": "execute_result"
    }
   ],
   "source": [
    "customers.isna().sum()"
   ]
  },
  {
   "cell_type": "markdown",
   "metadata": {},
   "source": [
    "Всего в таблице собраны данные о данные 99441 пользователях (при этом если считать по уникальным id (поле customer_unique_id - аналог номера паспорта) - их 96096). Пропуски в таблице - отсутсвуют."
   ]
  },
  {
   "cell_type": "markdown",
   "metadata": {},
   "source": [
    "#### Таблица с заказами"
   ]
  },
  {
   "cell_type": "code",
   "execution_count": 10,
   "metadata": {},
   "outputs": [
    {
     "name": "stdout",
     "output_type": "stream",
     "text": [
      "<class 'pandas.core.frame.DataFrame'>\n",
      "RangeIndex: 99441 entries, 0 to 99440\n",
      "Data columns (total 8 columns):\n",
      " #   Column                         Non-Null Count  Dtype         \n",
      "---  ------                         --------------  -----         \n",
      " 0   order_id                       99441 non-null  object        \n",
      " 1   customer_id                    99441 non-null  object        \n",
      " 2   order_status                   99441 non-null  object        \n",
      " 3   order_purchase_timestamp       99441 non-null  datetime64[ns]\n",
      " 4   order_approved_at              99281 non-null  datetime64[ns]\n",
      " 5   order_delivered_carrier_date   97658 non-null  datetime64[ns]\n",
      " 6   order_delivered_customer_date  96476 non-null  datetime64[ns]\n",
      " 7   order_estimated_delivery_date  99441 non-null  datetime64[ns]\n",
      "dtypes: datetime64[ns](5), object(3)\n",
      "memory usage: 6.1+ MB\n"
     ]
    }
   ],
   "source": [
    "# посмотрим на типы данных в таблице с заказами\n",
    "orders.info()"
   ]
  },
  {
   "cell_type": "code",
   "execution_count": 11,
   "metadata": {},
   "outputs": [
    {
     "data": {
      "text/html": [
       "<div>\n",
       "<style scoped>\n",
       "    .dataframe tbody tr th:only-of-type {\n",
       "        vertical-align: middle;\n",
       "    }\n",
       "\n",
       "    .dataframe tbody tr th {\n",
       "        vertical-align: top;\n",
       "    }\n",
       "\n",
       "    .dataframe thead th {\n",
       "        text-align: right;\n",
       "    }\n",
       "</style>\n",
       "<table border=\"1\" class=\"dataframe\">\n",
       "  <thead>\n",
       "    <tr style=\"text-align: right;\">\n",
       "      <th></th>\n",
       "      <th>order_id</th>\n",
       "      <th>customer_id</th>\n",
       "      <th>order_status</th>\n",
       "    </tr>\n",
       "  </thead>\n",
       "  <tbody>\n",
       "    <tr>\n",
       "      <th>count</th>\n",
       "      <td>99441</td>\n",
       "      <td>99441</td>\n",
       "      <td>99441</td>\n",
       "    </tr>\n",
       "    <tr>\n",
       "      <th>unique</th>\n",
       "      <td>99441</td>\n",
       "      <td>99441</td>\n",
       "      <td>8</td>\n",
       "    </tr>\n",
       "    <tr>\n",
       "      <th>top</th>\n",
       "      <td>44437f0cd12aae191555f66ce8dc2d5f</td>\n",
       "      <td>5a0dc6805a195218a4e448653dee4740</td>\n",
       "      <td>delivered</td>\n",
       "    </tr>\n",
       "    <tr>\n",
       "      <th>freq</th>\n",
       "      <td>1</td>\n",
       "      <td>1</td>\n",
       "      <td>96478</td>\n",
       "    </tr>\n",
       "  </tbody>\n",
       "</table>\n",
       "</div>"
      ],
      "text/plain": [
       "                                order_id                       customer_id  \\\n",
       "count                              99441                             99441   \n",
       "unique                             99441                             99441   \n",
       "top     44437f0cd12aae191555f66ce8dc2d5f  5a0dc6805a195218a4e448653dee4740   \n",
       "freq                                   1                                 1   \n",
       "\n",
       "       order_status  \n",
       "count         99441  \n",
       "unique            8  \n",
       "top       delivered  \n",
       "freq          96478  "
      ]
     },
     "execution_count": 11,
     "metadata": {},
     "output_type": "execute_result"
    }
   ],
   "source": [
    "orders.describe(include='object')"
   ]
  },
  {
   "cell_type": "code",
   "execution_count": 12,
   "metadata": {},
   "outputs": [
    {
     "name": "stderr",
     "output_type": "stream",
     "text": [
      "/opt/tljh/user/lib/python3.7/site-packages/ipykernel_launcher.py:1: FutureWarning: Treating datetime data as categorical rather than numeric in `.describe` is deprecated and will be removed in a future version of pandas. Specify `datetime_is_numeric=True` to silence this warning and adopt the future behavior now.\n",
      "  \"\"\"Entry point for launching an IPython kernel.\n",
      "/opt/tljh/user/lib/python3.7/site-packages/ipykernel_launcher.py:1: FutureWarning: Treating datetime data as categorical rather than numeric in `.describe` is deprecated and will be removed in a future version of pandas. Specify `datetime_is_numeric=True` to silence this warning and adopt the future behavior now.\n",
      "  \"\"\"Entry point for launching an IPython kernel.\n",
      "/opt/tljh/user/lib/python3.7/site-packages/ipykernel_launcher.py:1: FutureWarning: Treating datetime data as categorical rather than numeric in `.describe` is deprecated and will be removed in a future version of pandas. Specify `datetime_is_numeric=True` to silence this warning and adopt the future behavior now.\n",
      "  \"\"\"Entry point for launching an IPython kernel.\n",
      "/opt/tljh/user/lib/python3.7/site-packages/ipykernel_launcher.py:1: FutureWarning: Treating datetime data as categorical rather than numeric in `.describe` is deprecated and will be removed in a future version of pandas. Specify `datetime_is_numeric=True` to silence this warning and adopt the future behavior now.\n",
      "  \"\"\"Entry point for launching an IPython kernel.\n",
      "/opt/tljh/user/lib/python3.7/site-packages/ipykernel_launcher.py:1: FutureWarning: Treating datetime data as categorical rather than numeric in `.describe` is deprecated and will be removed in a future version of pandas. Specify `datetime_is_numeric=True` to silence this warning and adopt the future behavior now.\n",
      "  \"\"\"Entry point for launching an IPython kernel.\n"
     ]
    },
    {
     "data": {
      "text/html": [
       "<div>\n",
       "<style scoped>\n",
       "    .dataframe tbody tr th:only-of-type {\n",
       "        vertical-align: middle;\n",
       "    }\n",
       "\n",
       "    .dataframe tbody tr th {\n",
       "        vertical-align: top;\n",
       "    }\n",
       "\n",
       "    .dataframe thead th {\n",
       "        text-align: right;\n",
       "    }\n",
       "</style>\n",
       "<table border=\"1\" class=\"dataframe\">\n",
       "  <thead>\n",
       "    <tr style=\"text-align: right;\">\n",
       "      <th></th>\n",
       "      <th>order_purchase_timestamp</th>\n",
       "      <th>order_approved_at</th>\n",
       "      <th>order_delivered_carrier_date</th>\n",
       "      <th>order_delivered_customer_date</th>\n",
       "      <th>order_estimated_delivery_date</th>\n",
       "    </tr>\n",
       "  </thead>\n",
       "  <tbody>\n",
       "    <tr>\n",
       "      <th>count</th>\n",
       "      <td>99441</td>\n",
       "      <td>99281</td>\n",
       "      <td>97658</td>\n",
       "      <td>96476</td>\n",
       "      <td>99441</td>\n",
       "    </tr>\n",
       "    <tr>\n",
       "      <th>unique</th>\n",
       "      <td>98875</td>\n",
       "      <td>90733</td>\n",
       "      <td>81018</td>\n",
       "      <td>95664</td>\n",
       "      <td>459</td>\n",
       "    </tr>\n",
       "    <tr>\n",
       "      <th>top</th>\n",
       "      <td>2018-03-31 15:08:21</td>\n",
       "      <td>2018-02-27 04:31:10</td>\n",
       "      <td>2018-05-09 15:48:00</td>\n",
       "      <td>2018-05-14 20:02:44</td>\n",
       "      <td>2017-12-20 00:00:00</td>\n",
       "    </tr>\n",
       "    <tr>\n",
       "      <th>freq</th>\n",
       "      <td>3</td>\n",
       "      <td>9</td>\n",
       "      <td>47</td>\n",
       "      <td>3</td>\n",
       "      <td>522</td>\n",
       "    </tr>\n",
       "    <tr>\n",
       "      <th>first</th>\n",
       "      <td>2016-09-04 21:15:19</td>\n",
       "      <td>2016-09-15 12:16:38</td>\n",
       "      <td>2016-10-08 10:34:01</td>\n",
       "      <td>2016-10-11 13:46:32</td>\n",
       "      <td>2016-09-30 00:00:00</td>\n",
       "    </tr>\n",
       "    <tr>\n",
       "      <th>last</th>\n",
       "      <td>2018-10-17 17:30:18</td>\n",
       "      <td>2018-09-03 17:40:06</td>\n",
       "      <td>2018-09-11 19:48:28</td>\n",
       "      <td>2018-10-17 13:22:46</td>\n",
       "      <td>2018-11-12 00:00:00</td>\n",
       "    </tr>\n",
       "  </tbody>\n",
       "</table>\n",
       "</div>"
      ],
      "text/plain": [
       "       order_purchase_timestamp    order_approved_at  \\\n",
       "count                     99441                99281   \n",
       "unique                    98875                90733   \n",
       "top         2018-03-31 15:08:21  2018-02-27 04:31:10   \n",
       "freq                          3                    9   \n",
       "first       2016-09-04 21:15:19  2016-09-15 12:16:38   \n",
       "last        2018-10-17 17:30:18  2018-09-03 17:40:06   \n",
       "\n",
       "       order_delivered_carrier_date order_delivered_customer_date  \\\n",
       "count                         97658                         96476   \n",
       "unique                        81018                         95664   \n",
       "top             2018-05-09 15:48:00           2018-05-14 20:02:44   \n",
       "freq                             47                             3   \n",
       "first           2016-10-08 10:34:01           2016-10-11 13:46:32   \n",
       "last            2018-09-11 19:48:28           2018-10-17 13:22:46   \n",
       "\n",
       "       order_estimated_delivery_date  \n",
       "count                          99441  \n",
       "unique                           459  \n",
       "top              2017-12-20 00:00:00  \n",
       "freq                             522  \n",
       "first            2016-09-30 00:00:00  \n",
       "last             2018-11-12 00:00:00  "
      ]
     },
     "execution_count": 12,
     "metadata": {},
     "output_type": "execute_result"
    }
   ],
   "source": [
    "orders.describe(include='datetime64')"
   ]
  },
  {
   "cell_type": "code",
   "execution_count": 13,
   "metadata": {},
   "outputs": [
    {
     "data": {
      "text/plain": [
       "order_id                            0\n",
       "customer_id                         0\n",
       "order_status                        0\n",
       "order_purchase_timestamp            0\n",
       "order_approved_at                 160\n",
       "order_delivered_carrier_date     1783\n",
       "order_delivered_customer_date    2965\n",
       "order_estimated_delivery_date       0\n",
       "dtype: int64"
      ]
     },
     "execution_count": 13,
     "metadata": {},
     "output_type": "execute_result"
    }
   ],
   "source": [
    "orders.isna().sum()"
   ]
  },
  {
   "cell_type": "code",
   "execution_count": 14,
   "metadata": {},
   "outputs": [],
   "source": [
    "orders_copy = copy.deepcopy(orders)\n",
    "orders_copy['order_purchase_timestamp'] = orders_copy['order_purchase_timestamp'].dt.to_period('M')"
   ]
  },
  {
   "cell_type": "code",
   "execution_count": 15,
   "metadata": {},
   "outputs": [
    {
     "data": {
      "text/plain": [
       "(array([ 0,  1,  2,  3,  4,  5,  6,  7,  8,  9, 10, 11, 12, 13, 14, 15, 16,\n",
       "        17, 18, 19, 20, 21, 22, 23, 24]),\n",
       " <a list of 25 Text major ticklabel objects>)"
      ]
     },
     "execution_count": 15,
     "metadata": {},
     "output_type": "execute_result"
    },
    {
     "data": {
      "image/png": "[encoded data removed]",
      "text/plain": [
       "<Figure size 432x288 with 1 Axes>"
      ]
     },
     "metadata": {
      "needs_background": "light"
     },
     "output_type": "display_data"
    }
   ],
   "source": [
    "orders_by_month = orders_copy.groupby('order_purchase_timestamp', as_index = False).agg({'customer_id':'count'})\n",
    "sns.barplot(x='order_purchase_timestamp', y='customer_id', data=orders_by_month)\n",
    "plt.rcParams['figure.figsize'] = (12, 8)\n",
    "plt.xticks(rotation=90)"
   ]
  },
  {
   "cell_type": "markdown",
   "metadata": {},
   "source": [
    "Первый заказ был сделан 4 сентября 2016 года, последний - 17 октября 2018 года. Т.е. данные в таблице представлены за 2 года. \n",
    "Самый частый статус заказа 'доставлен' (уже хорошо).\n",
    "\n",
    "В таблице достаточно много пропусков:\n",
    "\n",
    "- 160 заказов не подтверждены;\n",
    "- 1783 заказа не имеют даты передачи заказа в логистическую службу;\n",
    "- 2965 не имеют времени доставки заказа.\n",
    "\n",
    "Таким образом можно отметить, что имеется ряд трудностей с доставкой товаров, на что стоило бы обратить внимание.\n",
    "В целом, количество пользователей интернет магазина растет с течением времени."
   ]
  },
  {
   "cell_type": "markdown",
   "metadata": {},
   "source": [
    "#### Таблица с товарами"
   ]
  },
  {
   "cell_type": "code",
   "execution_count": 16,
   "metadata": {},
   "outputs": [
    {
     "name": "stdout",
     "output_type": "stream",
     "text": [
      "<class 'pandas.core.frame.DataFrame'>\n",
      "RangeIndex: 112650 entries, 0 to 112649\n",
      "Data columns (total 7 columns):\n",
      " #   Column               Non-Null Count   Dtype         \n",
      "---  ------               --------------   -----         \n",
      " 0   order_id             112650 non-null  object        \n",
      " 1   order_item_id        112650 non-null  int64         \n",
      " 2   product_id           112650 non-null  object        \n",
      " 3   seller_id            112650 non-null  object        \n",
      " 4   shipping_limit_date  112650 non-null  datetime64[ns]\n",
      " 5   price                112650 non-null  float64       \n",
      " 6   freight_value        112650 non-null  float64       \n",
      "dtypes: datetime64[ns](1), float64(2), int64(1), object(3)\n",
      "memory usage: 6.0+ MB\n"
     ]
    }
   ],
   "source": [
    "# посмотрим на типы данных в таблице с товарами\n",
    "items.info()"
   ]
  },
  {
   "cell_type": "code",
   "execution_count": 17,
   "metadata": {},
   "outputs": [
    {
     "data": {
      "text/html": [
       "<div>\n",
       "<style scoped>\n",
       "    .dataframe tbody tr th:only-of-type {\n",
       "        vertical-align: middle;\n",
       "    }\n",
       "\n",
       "    .dataframe tbody tr th {\n",
       "        vertical-align: top;\n",
       "    }\n",
       "\n",
       "    .dataframe thead th {\n",
       "        text-align: right;\n",
       "    }\n",
       "</style>\n",
       "<table border=\"1\" class=\"dataframe\">\n",
       "  <thead>\n",
       "    <tr style=\"text-align: right;\">\n",
       "      <th></th>\n",
       "      <th>price</th>\n",
       "      <th>freight_value</th>\n",
       "    </tr>\n",
       "  </thead>\n",
       "  <tbody>\n",
       "    <tr>\n",
       "      <th>count</th>\n",
       "      <td>112650.000000</td>\n",
       "      <td>112650.000000</td>\n",
       "    </tr>\n",
       "    <tr>\n",
       "      <th>mean</th>\n",
       "      <td>120.653739</td>\n",
       "      <td>19.990320</td>\n",
       "    </tr>\n",
       "    <tr>\n",
       "      <th>std</th>\n",
       "      <td>183.633928</td>\n",
       "      <td>15.806405</td>\n",
       "    </tr>\n",
       "    <tr>\n",
       "      <th>min</th>\n",
       "      <td>0.850000</td>\n",
       "      <td>0.000000</td>\n",
       "    </tr>\n",
       "    <tr>\n",
       "      <th>25%</th>\n",
       "      <td>39.900000</td>\n",
       "      <td>13.080000</td>\n",
       "    </tr>\n",
       "    <tr>\n",
       "      <th>50%</th>\n",
       "      <td>74.990000</td>\n",
       "      <td>16.260000</td>\n",
       "    </tr>\n",
       "    <tr>\n",
       "      <th>75%</th>\n",
       "      <td>134.900000</td>\n",
       "      <td>21.150000</td>\n",
       "    </tr>\n",
       "    <tr>\n",
       "      <th>max</th>\n",
       "      <td>6735.000000</td>\n",
       "      <td>409.680000</td>\n",
       "    </tr>\n",
       "  </tbody>\n",
       "</table>\n",
       "</div>"
      ],
      "text/plain": [
       "               price  freight_value\n",
       "count  112650.000000  112650.000000\n",
       "mean      120.653739      19.990320\n",
       "std       183.633928      15.806405\n",
       "min         0.850000       0.000000\n",
       "25%        39.900000      13.080000\n",
       "50%        74.990000      16.260000\n",
       "75%       134.900000      21.150000\n",
       "max      6735.000000     409.680000"
      ]
     },
     "execution_count": 17,
     "metadata": {},
     "output_type": "execute_result"
    }
   ],
   "source": [
    "items.describe(include='float64')"
   ]
  },
  {
   "cell_type": "code",
   "execution_count": 18,
   "metadata": {},
   "outputs": [
    {
     "data": {
      "text/plain": [
       "order_id               0\n",
       "order_item_id          0\n",
       "product_id             0\n",
       "seller_id              0\n",
       "shipping_limit_date    0\n",
       "price                  0\n",
       "freight_value          0\n",
       "dtype: int64"
      ]
     },
     "execution_count": 18,
     "metadata": {},
     "output_type": "execute_result"
    }
   ],
   "source": [
    "items.isna().sum()"
   ]
  },
  {
   "cell_type": "markdown",
   "metadata": {},
   "source": [
    "Судя по разбросу цен товаров - товары в ассортименте магазина относятся к различным категориям. Пропуски в таблице отсутсвуют."
   ]
  },
  {
   "cell_type": "markdown",
   "metadata": {},
   "source": [
    "### Решение задач\n",
    "\n",
    "Теперь, когда у нас есть представление о данных, с которыми предстоит работать, можно приступать к ответам на поставленные вопросы.\n",
    "\n",
    "Прежде всего сформулируем что именно мы будем считать 'покупкой' в рамках решения данного кейса:\n",
    "\n",
    "Согласно описанию данных, заказы имеют следующие статусы доставки:\n",
    "- created —  создан\n",
    "- approved —  подтверждён\n",
    "- invoiced —  выставлен счёт\n",
    "- processing —  в процессе сборки заказа\n",
    "- shipped —  отгружен со склада\n",
    "- delivered —  доставлен пользователю\n",
    "- unavailable —  недоступен\n",
    "- canceled —  отменён\n",
    "\n",
    "В рамках данной задачи, здесь и далее 'покупкой' будут считаться заказы со статусом 'delivered' и имеющие дату подтверждения в колонке 'order_approved_at'. \n",
    "\n",
    "Данное решение принято по аналогии с работой популярных маркетплейсов в России: со статусами unavailable и canceled - все понятно, они точно не идут в расчет. Однако, все остальные заказы, со статусами не равными delivered, могут быть не забраны из ПВЗ по инициативе покупателя/возвращены по каким либо причинам покупателем и будут отправлены обратно на склад, а денежные средства вернутся покупателю. Соответсвенно считать такие заказы  'покупкой' наперед мы не можем.\n",
    "И, соответсвенно, чтобы избежать ошибок системы все доставленные заказы должны быть подтверждены со стороны продавца."
   ]
  },
  {
   "cell_type": "markdown",
   "metadata": {},
   "source": [
    "#### Сколько у нас пользователей, которые совершили покупку только один раз?"
   ]
  },
  {
   "cell_type": "code",
   "execution_count": 19,
   "metadata": {},
   "outputs": [],
   "source": [
    "# объединим таблицы с данными о покупателях и заказах и создадим копию датафрейма чтобы работать с ней в рамках этой задачи\n",
    "cust_n_order_data = customers.merge(orders, how = 'inner', on = 'customer_id') \n",
    "cust_n_order_data_1 = copy.deepcopy(cust_n_order_data)"
   ]
  },
  {
   "cell_type": "code",
   "execution_count": 20,
   "metadata": {},
   "outputs": [],
   "source": [
    "# отберем те строки, которые соответсвуют нашему критерию 'покупки', и посчитаем кол-во заказов для каждого уникального пользователя\n",
    "orders_by_customer = cust_n_order_data_1.query(\"order_status == 'delivered' and order_approved_at != 'NaN'\") \\\n",
    "                     .groupby('customer_unique_id', as_index = False).agg({'order_id':'count'}) \\\n",
    "                     .rename(columns={'order_id':'numb_of_orders'}) \\\n",
    "                     .sort_values('numb_of_orders', ascending = False)"
   ]
  },
  {
   "cell_type": "code",
   "execution_count": 21,
   "metadata": {},
   "outputs": [
    {
     "data": {
      "text/html": [
       "<div>\n",
       "<style scoped>\n",
       "    .dataframe tbody tr th:only-of-type {\n",
       "        vertical-align: middle;\n",
       "    }\n",
       "\n",
       "    .dataframe tbody tr th {\n",
       "        vertical-align: top;\n",
       "    }\n",
       "\n",
       "    .dataframe thead th {\n",
       "        text-align: right;\n",
       "    }\n",
       "</style>\n",
       "<table border=\"1\" class=\"dataframe\">\n",
       "  <thead>\n",
       "    <tr style=\"text-align: right;\">\n",
       "      <th></th>\n",
       "      <th>customer_unique_id</th>\n",
       "      <th>numb_of_orders</th>\n",
       "    </tr>\n",
       "  </thead>\n",
       "  <tbody>\n",
       "    <tr>\n",
       "      <th>51426</th>\n",
       "      <td>8d50f5eadf50201ccdcedfb9e2ac8455</td>\n",
       "      <td>15</td>\n",
       "    </tr>\n",
       "    <tr>\n",
       "      <th>22779</th>\n",
       "      <td>3e43e6105506432c953e165fb2acf44c</td>\n",
       "      <td>9</td>\n",
       "    </tr>\n",
       "    <tr>\n",
       "      <th>36705</th>\n",
       "      <td>6469f99c1f9dfae7733b25662e7f1782</td>\n",
       "      <td>7</td>\n",
       "    </tr>\n",
       "    <tr>\n",
       "      <th>73911</th>\n",
       "      <td>ca77025e7201e3b30c44b472ff346268</td>\n",
       "      <td>7</td>\n",
       "    </tr>\n",
       "    <tr>\n",
       "      <th>10060</th>\n",
       "      <td>1b6c7548a2a1f9037c1fd3ddfed95f33</td>\n",
       "      <td>7</td>\n",
       "    </tr>\n",
       "  </tbody>\n",
       "</table>\n",
       "</div>"
      ],
      "text/plain": [
       "                     customer_unique_id  numb_of_orders\n",
       "51426  8d50f5eadf50201ccdcedfb9e2ac8455              15\n",
       "22779  3e43e6105506432c953e165fb2acf44c               9\n",
       "36705  6469f99c1f9dfae7733b25662e7f1782               7\n",
       "73911  ca77025e7201e3b30c44b472ff346268               7\n",
       "10060  1b6c7548a2a1f9037c1fd3ddfed95f33               7"
      ]
     },
     "execution_count": 21,
     "metadata": {},
     "output_type": "execute_result"
    }
   ],
   "source": [
    "orders_by_customer.head()"
   ]
  },
  {
   "cell_type": "code",
   "execution_count": 22,
   "metadata": {},
   "outputs": [
    {
     "data": {
      "text/plain": [
       "93345"
      ]
     },
     "execution_count": 22,
     "metadata": {},
     "output_type": "execute_result"
    }
   ],
   "source": [
    "orders_by_customer.shape[0]"
   ]
  },
  {
   "cell_type": "code",
   "execution_count": 23,
   "metadata": {},
   "outputs": [],
   "source": [
    "# подсчитаем кол-во пользователей с одной покупкой\n",
    "customers_with_ohe_order = orders_by_customer.query('numb_of_orders == 1').numb_of_orders.count()"
   ]
  },
  {
   "cell_type": "code",
   "execution_count": 24,
   "metadata": {},
   "outputs": [],
   "source": [
    "persent = (customers_with_ohe_order * 100 / orders_by_customer.shape[0]).round(1)"
   ]
  },
  {
   "cell_type": "code",
   "execution_count": 25,
   "metadata": {},
   "outputs": [
    {
     "name": "stdout",
     "output_type": "stream",
     "text": [
      "Количество пользователей, совершивших покупку один раз - 90545 человек или 97.0% от общего числа пользователей\n"
     ]
    }
   ],
   "source": [
    "print(f'Количество пользователей, совершивших покупку один раз - {customers_with_ohe_order} человек или {persent}% от общего числа пользователей')"
   ]
  },
  {
   "cell_type": "markdown",
   "metadata": {},
   "source": [
    "Исходя из полученных данных, можно сделать вывод, что покупатели крайне редко повторно заказывают в данном интернет магазине. Для бизнеса это не благоприятная ситуация"
   ]
  },
  {
   "cell_type": "markdown",
   "metadata": {},
   "source": [
    "#### Сколько заказов в месяц в среднем не доставляется по разным причинам (вывести детализацию по причинам)"
   ]
  },
  {
   "cell_type": "code",
   "execution_count": 26,
   "metadata": {},
   "outputs": [],
   "source": [
    "# создадим копию датафрейма чтобы работать с ней в рамках этой задачи\n",
    "orders_copy = copy.deepcopy(orders)"
   ]
  },
  {
   "cell_type": "code",
   "execution_count": 27,
   "metadata": {},
   "outputs": [],
   "source": [
    "# создадим столбец с месяцем и годом заказа\n",
    "orders_copy['month_of_order'] = orders_copy['order_estimated_delivery_date'].dt.to_period('M')"
   ]
  },
  {
   "cell_type": "code",
   "execution_count": 28,
   "metadata": {},
   "outputs": [],
   "source": [
    "#отсеем доставленные заказы\n",
    "#посчитаем кол-во заказов с разным статусом для каждого месяца\n",
    "#переименуем колонку с кол-вом заказов\n",
    "#посчитаем среднее кол-во заказов с разным статусом в месяц\n",
    "#отсортируем значения\n",
    "not_delivered_orders_by_month = orders_copy.query(\"order_status != 'delivered'\")\\\n",
    ".groupby(['month_of_order', 'order_status'], as_index = False).agg({'order_id':'count'})\\\n",
    ".rename(columns = {'order_id':'num_of_orders'})\\\n",
    ".groupby('order_status', as_index = False).agg({'num_of_orders':'mean'})\\\n",
    ".sort_values(by='num_of_orders',ascending=False).round(2)"
   ]
  },
  {
   "cell_type": "code",
   "execution_count": 29,
   "metadata": {},
   "outputs": [
    {
     "data": {
      "text/html": [
       "<div>\n",
       "<style scoped>\n",
       "    .dataframe tbody tr th:only-of-type {\n",
       "        vertical-align: middle;\n",
       "    }\n",
       "\n",
       "    .dataframe tbody tr th {\n",
       "        vertical-align: top;\n",
       "    }\n",
       "\n",
       "    .dataframe thead th {\n",
       "        text-align: right;\n",
       "    }\n",
       "</style>\n",
       "<table border=\"1\" class=\"dataframe\">\n",
       "  <thead>\n",
       "    <tr style=\"text-align: right;\">\n",
       "      <th></th>\n",
       "      <th>order_status</th>\n",
       "      <th>num_of_orders</th>\n",
       "    </tr>\n",
       "  </thead>\n",
       "  <tbody>\n",
       "    <tr>\n",
       "      <th>5</th>\n",
       "      <td>shipped</td>\n",
       "      <td>48.13</td>\n",
       "    </tr>\n",
       "    <tr>\n",
       "      <th>6</th>\n",
       "      <td>unavailable</td>\n",
       "      <td>29.00</td>\n",
       "    </tr>\n",
       "    <tr>\n",
       "      <th>1</th>\n",
       "      <td>canceled</td>\n",
       "      <td>24.04</td>\n",
       "    </tr>\n",
       "    <tr>\n",
       "      <th>4</th>\n",
       "      <td>processing</td>\n",
       "      <td>15.84</td>\n",
       "    </tr>\n",
       "    <tr>\n",
       "      <th>3</th>\n",
       "      <td>invoiced</td>\n",
       "      <td>14.95</td>\n",
       "    </tr>\n",
       "    <tr>\n",
       "      <th>2</th>\n",
       "      <td>created</td>\n",
       "      <td>1.67</td>\n",
       "    </tr>\n",
       "    <tr>\n",
       "      <th>0</th>\n",
       "      <td>approved</td>\n",
       "      <td>1.00</td>\n",
       "    </tr>\n",
       "  </tbody>\n",
       "</table>\n",
       "</div>"
      ],
      "text/plain": [
       "  order_status  num_of_orders\n",
       "5      shipped          48.13\n",
       "6  unavailable          29.00\n",
       "1     canceled          24.04\n",
       "4   processing          15.84\n",
       "3     invoiced          14.95\n",
       "2      created           1.67\n",
       "0     approved           1.00"
      ]
     },
     "execution_count": 29,
     "metadata": {},
     "output_type": "execute_result"
    }
   ],
   "source": [
    "not_delivered_orders_by_month"
   ]
  },
  {
   "cell_type": "markdown",
   "metadata": {},
   "source": [
    "На данном этапе анализа подтверждаются предположения, что в магазине есть проблема с доставкой товаров. Около 40% заказов в месяц имеют статус недоступен  или отменен. Даже если предположить что все остальные заказы с другими статусами пройдут весь цикл успешно и станут покупками, 40% - это много."
   ]
  },
  {
   "cell_type": "markdown",
   "metadata": {},
   "source": [
    "#### По каждому товару определить, в какой день недели товар чаще всего покупается"
   ]
  },
  {
   "cell_type": "code",
   "execution_count": 30,
   "metadata": {},
   "outputs": [],
   "source": [
    "# объединим таблицы с данными о заказах товарах и создадим копию датафрейма чтобы работать с ней в рамках этой задачи\n",
    "order_n_item_data = orders.merge(items, how = 'inner', on = 'order_id') \n",
    "order_n_item_data_1 = copy.deepcopy(order_n_item_data)"
   ]
  },
  {
   "cell_type": "code",
   "execution_count": 31,
   "metadata": {},
   "outputs": [],
   "source": [
    "# создаем столбец с названием дней недели\n",
    "order_n_item_data_1['day_of_week'] = order_n_item_data_1['order_purchase_timestamp'].dt.day_name()"
   ]
  },
  {
   "cell_type": "code",
   "execution_count": 32,
   "metadata": {},
   "outputs": [],
   "source": [
    "# отберем те строки, которые соответсвуют нашему критерию 'покупки'\n",
    "# для каждого товара посчитаем кол-во покупок по дням недели\n",
    "#переименуем колонку с кол-вом заказов\n",
    "#отсортируем значения\n",
    "item_orders_by_day = order_n_item_data_1.query(\"order_status == 'delivered' and order_approved_at != 'NaN'\")\\\n",
    ".groupby(['product_id', 'day_of_week'], as_index = False).agg({'order_status':'count'})\\\n",
    ".rename(columns={'order_status':'num_of_orders'})\\\n",
    ".sort_values(['product_id','num_of_orders'], ascending = False) "
   ]
  },
  {
   "cell_type": "code",
   "execution_count": 33,
   "metadata": {},
   "outputs": [],
   "source": [
    "#для каждого товара отберем стоки с максимальным кол-вом заказов\n",
    "days_with_max_sells_for_items = item_orders_by_day.loc[item_orders_by_day.groupby('product_id')['num_of_orders'].idxmax()].sort_values('num_of_orders')"
   ]
  },
  {
   "cell_type": "code",
   "execution_count": 34,
   "metadata": {},
   "outputs": [
    {
     "data": {
      "text/html": [
       "<div>\n",
       "<style scoped>\n",
       "    .dataframe tbody tr th:only-of-type {\n",
       "        vertical-align: middle;\n",
       "    }\n",
       "\n",
       "    .dataframe tbody tr th {\n",
       "        vertical-align: top;\n",
       "    }\n",
       "\n",
       "    .dataframe thead th {\n",
       "        text-align: right;\n",
       "    }\n",
       "</style>\n",
       "<table border=\"1\" class=\"dataframe\">\n",
       "  <thead>\n",
       "    <tr style=\"text-align: right;\">\n",
       "      <th></th>\n",
       "      <th>product_id</th>\n",
       "      <th>day_of_week</th>\n",
       "      <th>num_of_orders</th>\n",
       "    </tr>\n",
       "  </thead>\n",
       "  <tbody>\n",
       "    <tr>\n",
       "      <th>0</th>\n",
       "      <td>00066f42aeeb9f3007548bb9d3f33c38</td>\n",
       "      <td>Sunday</td>\n",
       "      <td>1</td>\n",
       "    </tr>\n",
       "    <tr>\n",
       "      <th>36704</th>\n",
       "      <td>9d6c4148e617e319b543737dfe71cc5f</td>\n",
       "      <td>Thursday</td>\n",
       "      <td>1</td>\n",
       "    </tr>\n",
       "    <tr>\n",
       "      <th>36703</th>\n",
       "      <td>9d6bf1b7a541b5205e4fd5aa40282f33</td>\n",
       "      <td>Monday</td>\n",
       "      <td>1</td>\n",
       "    </tr>\n",
       "    <tr>\n",
       "      <th>36702</th>\n",
       "      <td>9d6a788ceee3a2c4ef57a459d5a202eb</td>\n",
       "      <td>Wednesday</td>\n",
       "      <td>1</td>\n",
       "    </tr>\n",
       "    <tr>\n",
       "      <th>36701</th>\n",
       "      <td>9d6a5df183306316cd9954e052f30dd3</td>\n",
       "      <td>Friday</td>\n",
       "      <td>1</td>\n",
       "    </tr>\n",
       "    <tr>\n",
       "      <th>...</th>\n",
       "      <td>...</td>\n",
       "      <td>...</td>\n",
       "      <td>...</td>\n",
       "    </tr>\n",
       "    <tr>\n",
       "      <th>12742</th>\n",
       "      <td>368c6c730842d78016ad823897a372db</td>\n",
       "      <td>Friday</td>\n",
       "      <td>67</td>\n",
       "    </tr>\n",
       "    <tr>\n",
       "      <th>19707</th>\n",
       "      <td>53b36df67ebb7c41585e8d54d6772e08</td>\n",
       "      <td>Tuesday</td>\n",
       "      <td>76</td>\n",
       "    </tr>\n",
       "    <tr>\n",
       "      <th>40177</th>\n",
       "      <td>aca2eb7d00ea1a7b8ebd4e68314663af</td>\n",
       "      <td>Thursday</td>\n",
       "      <td>89</td>\n",
       "    </tr>\n",
       "    <tr>\n",
       "      <th>35745</th>\n",
       "      <td>99a4788cb24856965c36a24e339b6058</td>\n",
       "      <td>Monday</td>\n",
       "      <td>91</td>\n",
       "    </tr>\n",
       "    <tr>\n",
       "      <th>15594</th>\n",
       "      <td>422879e10f46682990de24d770e7f83d</td>\n",
       "      <td>Wednesday</td>\n",
       "      <td>93</td>\n",
       "    </tr>\n",
       "  </tbody>\n",
       "</table>\n",
       "<p>32213 rows × 3 columns</p>\n",
       "</div>"
      ],
      "text/plain": [
       "                             product_id day_of_week  num_of_orders\n",
       "0      00066f42aeeb9f3007548bb9d3f33c38      Sunday              1\n",
       "36704  9d6c4148e617e319b543737dfe71cc5f    Thursday              1\n",
       "36703  9d6bf1b7a541b5205e4fd5aa40282f33      Monday              1\n",
       "36702  9d6a788ceee3a2c4ef57a459d5a202eb   Wednesday              1\n",
       "36701  9d6a5df183306316cd9954e052f30dd3      Friday              1\n",
       "...                                 ...         ...            ...\n",
       "12742  368c6c730842d78016ad823897a372db      Friday             67\n",
       "19707  53b36df67ebb7c41585e8d54d6772e08     Tuesday             76\n",
       "40177  aca2eb7d00ea1a7b8ebd4e68314663af    Thursday             89\n",
       "35745  99a4788cb24856965c36a24e339b6058      Monday             91\n",
       "15594  422879e10f46682990de24d770e7f83d   Wednesday             93\n",
       "\n",
       "[32213 rows x 3 columns]"
      ]
     },
     "execution_count": 34,
     "metadata": {},
     "output_type": "execute_result"
    }
   ],
   "source": [
    "days_with_max_sells_for_items"
   ]
  },
  {
   "cell_type": "code",
   "execution_count": 35,
   "metadata": {},
   "outputs": [
    {
     "data": {
      "text/plain": [
       "<matplotlib.axes._subplots.AxesSubplot at 0x7fa96a647240>"
      ]
     },
     "execution_count": 35,
     "metadata": {},
     "output_type": "execute_result"
    },
    {
     "data": {
      "image/png": "[encoded data removed]",
      "text/plain": [
       "<Figure size 864x576 with 1 Axes>"
      ]
     },
     "metadata": {
      "needs_background": "light"
     },
     "output_type": "display_data"
    }
   ],
   "source": [
    "for_vizualization = days_with_max_sells_for_items.groupby('day_of_week', as_index =False).agg({'product_id':'count'})\n",
    "\n",
    "day_order = ['Monday', 'Tuesday', 'Wednesday', 'Thursday', 'Friday', 'Saturday', 'Sunday']\n",
    "for_vizualization['day_of_week'] = pd.Categorical(for_vizualization['day_of_week'], categories=day_order, ordered=True)\n",
    "\n",
    "sns.barplot(x='day_of_week', y='product_id', data=for_vizualization)"
   ]
  },
  {
   "cell_type": "markdown",
   "metadata": {},
   "source": [
    "Итак, для большей части товаров, днями с максимальным количеством заказов с большим количественным отрывом являются понедельник и пятница. На втором месте - вторник и четверг. В суббота и воскресенье являются наиболее популярными для заказов для наименьшей части товаров. В целом, така ситуация хорошо коррелирует с графиком работы большей части населения: в понедельник люди делают покупки на предстоящую рабочую неделю, в пятницу закупаются к выходным, в субботу и воскресенье большая часть людей отдыхают и им не нужен большой ассортимент товаров."
   ]
  },
  {
   "cell_type": "markdown",
   "metadata": {},
   "source": [
    "#### Сколько у каждого из пользователей в среднем покупок в неделю (по месяцам)"
   ]
  },
  {
   "cell_type": "code",
   "execution_count": 36,
   "metadata": {},
   "outputs": [],
   "source": [
    "# объединим таблицы с данными о покупателях и заказах и создадим копию датафрейма чтобы работать с ней в рамках этой задачи\n",
    "cust_n_order_data = customers.merge(orders, how = 'inner', on = 'customer_id') \n",
    "cust_n_order_data_2 = copy.deepcopy(cust_n_order_data)"
   ]
  },
  {
   "cell_type": "code",
   "execution_count": 37,
   "metadata": {},
   "outputs": [],
   "source": [
    "#из столбца с датой создания заказа извлекаем месяц и год заказа (чтобы потом посмотреть мин и макс дату наблюдений)\n",
    "cust_n_order_data_2['date_of_order'] = cust_n_order_data_2['order_purchase_timestamp'].dt.date"
   ]
  },
  {
   "cell_type": "code",
   "execution_count": 38,
   "metadata": {},
   "outputs": [],
   "source": [
    "# создадим столбец с месяцем и годом заказа\n",
    "cust_n_order_data_2['month_of_order'] = cust_n_order_data_2['order_purchase_timestamp'].dt.to_period('M')"
   ]
  },
  {
   "cell_type": "code",
   "execution_count": 39,
   "metadata": {},
   "outputs": [],
   "source": [
    "#создаем в таблице с заказами столбец с указанием количества дней в каждом месяце (используем дату создания заказа для изучения поведения пользователей)\n",
    "cust_n_order_data_2['days_in_month'] = cust_n_order_data_2['order_purchase_timestamp'].dt.daysinmonth\n",
    "#создаем столбец с количеством недель в месяце - для этого количество дней в месяц делим на 7 дней\n",
    "cust_n_order_data_2['weeks_in_month'] = cust_n_order_data_2.days_in_month / 7"
   ]
  },
  {
   "cell_type": "code",
   "execution_count": 40,
   "metadata": {},
   "outputs": [],
   "source": [
    "# следуя ранее установленной логике, оставим только то, что соответсвует нашему определению покупки:\n",
    "cust_n_order_data_2 = cust_n_order_data_2.query(\"order_status == 'delivered' and order_approved_at != 'NaN'\")"
   ]
  },
  {
   "cell_type": "code",
   "execution_count": 41,
   "metadata": {},
   "outputs": [
    {
     "name": "stdout",
     "output_type": "stream",
     "text": [
      "Минимальная дата 2016-09-15 \n",
      "Максимальная дата 2018-08-29\n"
     ]
    }
   ],
   "source": [
    "min_data = cust_n_order_data_2.date_of_order.min()\n",
    "max_data = cust_n_order_data_2.date_of_order.max()\n",
    "\n",
    "print(f'Минимальная дата {min_data} \\nМаксимальная дата {max_data}')"
   ]
  },
  {
   "cell_type": "markdown",
   "metadata": {},
   "source": [
    "Отфильтрованный датафрейм включает в себя наблюдения с 15 сентября 2016 по 29 августа 2018 года. Соответсвенно наблюдения за первый и последний месяцы охватывают не все дни и будут давать искажения при расчете. Поэтому исключим их."
   ]
  },
  {
   "cell_type": "code",
   "execution_count": 42,
   "metadata": {},
   "outputs": [],
   "source": [
    "cust_n_order_data_2['date_of_order'] = pd.to_datetime(cust_n_order_data_2['date_of_order'])\n",
    "filtered = cust_n_order_data_2.query(\"date_of_order >= '2016-10-01 00:00:00' and date_of_order <= '2018-07-31 23:59:59'\")"
   ]
  },
  {
   "cell_type": "code",
   "execution_count": 43,
   "metadata": {},
   "outputs": [],
   "source": [
    "#для каждого уникального пользователя считаем общее количество заказов в месяц\n",
    "orders_per_month_by_users = filtered.groupby(['customer_unique_id', 'month_of_order'], as_index = False).agg({'order_id':'count'})\\\n",
    ".rename(columns={'order_id':'num_of_orders'})\\\n",
    ".sort_values('num_of_orders')"
   ]
  },
  {
   "cell_type": "code",
   "execution_count": 44,
   "metadata": {},
   "outputs": [
    {
     "data": {
      "text/html": [
       "<div>\n",
       "<style scoped>\n",
       "    .dataframe tbody tr th:only-of-type {\n",
       "        vertical-align: middle;\n",
       "    }\n",
       "\n",
       "    .dataframe tbody tr th {\n",
       "        vertical-align: top;\n",
       "    }\n",
       "\n",
       "    .dataframe thead th {\n",
       "        text-align: right;\n",
       "    }\n",
       "</style>\n",
       "<table border=\"1\" class=\"dataframe\">\n",
       "  <thead>\n",
       "    <tr style=\"text-align: right;\">\n",
       "      <th></th>\n",
       "      <th>customer_unique_id</th>\n",
       "      <th>month_of_order</th>\n",
       "      <th>num_of_orders</th>\n",
       "    </tr>\n",
       "  </thead>\n",
       "  <tbody>\n",
       "    <tr>\n",
       "      <th>0</th>\n",
       "      <td>0000366f3b9a7992bf8c76cfdf3221e2</td>\n",
       "      <td>2018-05</td>\n",
       "      <td>1</td>\n",
       "    </tr>\n",
       "    <tr>\n",
       "      <th>59053</th>\n",
       "      <td>a9da5a115fdd7b13412153e54dc02604</td>\n",
       "      <td>2018-04</td>\n",
       "      <td>1</td>\n",
       "    </tr>\n",
       "    <tr>\n",
       "      <th>59052</th>\n",
       "      <td>a9d935a890e7b3d7a15dc0ed603b1af9</td>\n",
       "      <td>2017-10</td>\n",
       "      <td>1</td>\n",
       "    </tr>\n",
       "    <tr>\n",
       "      <th>59051</th>\n",
       "      <td>a9d91b01596a92bb257b5b3a5490ef20</td>\n",
       "      <td>2018-01</td>\n",
       "      <td>1</td>\n",
       "    </tr>\n",
       "    <tr>\n",
       "      <th>59050</th>\n",
       "      <td>a9d7b1930b1726fae8b6bd573b7dcb11</td>\n",
       "      <td>2018-01</td>\n",
       "      <td>1</td>\n",
       "    </tr>\n",
       "    <tr>\n",
       "      <th>...</th>\n",
       "      <td>...</td>\n",
       "      <td>...</td>\n",
       "      <td>...</td>\n",
       "    </tr>\n",
       "    <tr>\n",
       "      <th>45874</th>\n",
       "      <td>83e7958a94bd7f74a9414d8782f87628</td>\n",
       "      <td>2017-01</td>\n",
       "      <td>4</td>\n",
       "    </tr>\n",
       "    <tr>\n",
       "      <th>21719</th>\n",
       "      <td>3e43e6105506432c953e165fb2acf44c</td>\n",
       "      <td>2018-02</td>\n",
       "      <td>4</td>\n",
       "    </tr>\n",
       "    <tr>\n",
       "      <th>61413</th>\n",
       "      <td>b08fab27d47a1eb6deda07bfd965ad43</td>\n",
       "      <td>2017-09</td>\n",
       "      <td>4</td>\n",
       "    </tr>\n",
       "    <tr>\n",
       "      <th>56380</th>\n",
       "      <td>a239b8e2fbce33780f1f1912e2ee5275</td>\n",
       "      <td>2017-02</td>\n",
       "      <td>4</td>\n",
       "    </tr>\n",
       "    <tr>\n",
       "      <th>6675</th>\n",
       "      <td>12f5d6e1cbf93dafd9dcc19095df0b3d</td>\n",
       "      <td>2017-01</td>\n",
       "      <td>6</td>\n",
       "    </tr>\n",
       "  </tbody>\n",
       "</table>\n",
       "<p>88869 rows × 3 columns</p>\n",
       "</div>"
      ],
      "text/plain": [
       "                     customer_unique_id month_of_order  num_of_orders\n",
       "0      0000366f3b9a7992bf8c76cfdf3221e2        2018-05              1\n",
       "59053  a9da5a115fdd7b13412153e54dc02604        2018-04              1\n",
       "59052  a9d935a890e7b3d7a15dc0ed603b1af9        2017-10              1\n",
       "59051  a9d91b01596a92bb257b5b3a5490ef20        2018-01              1\n",
       "59050  a9d7b1930b1726fae8b6bd573b7dcb11        2018-01              1\n",
       "...                                 ...            ...            ...\n",
       "45874  83e7958a94bd7f74a9414d8782f87628        2017-01              4\n",
       "21719  3e43e6105506432c953e165fb2acf44c        2018-02              4\n",
       "61413  b08fab27d47a1eb6deda07bfd965ad43        2017-09              4\n",
       "56380  a239b8e2fbce33780f1f1912e2ee5275        2017-02              4\n",
       "6675   12f5d6e1cbf93dafd9dcc19095df0b3d        2017-01              6\n",
       "\n",
       "[88869 rows x 3 columns]"
      ]
     },
     "execution_count": 44,
     "metadata": {},
     "output_type": "execute_result"
    }
   ],
   "source": [
    "orders_per_month_by_users"
   ]
  },
  {
   "cell_type": "code",
   "execution_count": 45,
   "metadata": {},
   "outputs": [],
   "source": [
    "#создаем более компактный датафрейм, в котором оставляем только необходимые для рассчетов колонки\n",
    "weeks_in_month = filtered[['customer_unique_id', 'weeks_in_month']]"
   ]
  },
  {
   "cell_type": "code",
   "execution_count": 46,
   "metadata": {},
   "outputs": [],
   "source": [
    "#объединяем таблицы с количеством заказов и количеством недель в месяц\n",
    "result_table = orders_per_month_by_users.merge(weeks_in_month, how = 'left', on = 'customer_unique_id')"
   ]
  },
  {
   "cell_type": "code",
   "execution_count": 47,
   "metadata": {},
   "outputs": [],
   "source": [
    "#добавляем в результирующую таблицу столбец с количеством заказов в неделю (делим заказы в месяц на кол-во недель в месяце)\n",
    "result_table['order_per_week'] = result_table.num_of_orders / result_table.weeks_in_month"
   ]
  },
  {
   "cell_type": "code",
   "execution_count": 48,
   "metadata": {},
   "outputs": [],
   "source": [
    "#а теперь для кажого уникального пользователя в разбивке по месяцам считаем среднее кол-во заказов в неделю\n",
    "result_table = result_table.groupby(['customer_unique_id', 'month_of_order'], as_index = False ).agg({'order_per_week':'mean'}).sort_values('order_per_week')"
   ]
  },
  {
   "cell_type": "code",
   "execution_count": 49,
   "metadata": {},
   "outputs": [
    {
     "data": {
      "text/html": [
       "<div>\n",
       "<style scoped>\n",
       "    .dataframe tbody tr th:only-of-type {\n",
       "        vertical-align: middle;\n",
       "    }\n",
       "\n",
       "    .dataframe tbody tr th {\n",
       "        vertical-align: top;\n",
       "    }\n",
       "\n",
       "    .dataframe thead th {\n",
       "        text-align: right;\n",
       "    }\n",
       "</style>\n",
       "<table border=\"1\" class=\"dataframe\">\n",
       "  <thead>\n",
       "    <tr style=\"text-align: right;\">\n",
       "      <th></th>\n",
       "      <th>customer_unique_id</th>\n",
       "      <th>month_of_order</th>\n",
       "      <th>order_per_week</th>\n",
       "    </tr>\n",
       "  </thead>\n",
       "  <tbody>\n",
       "    <tr>\n",
       "      <th>0</th>\n",
       "      <td>0000366f3b9a7992bf8c76cfdf3221e2</td>\n",
       "      <td>2018-05</td>\n",
       "      <td>0.225806</td>\n",
       "    </tr>\n",
       "    <tr>\n",
       "      <th>50980</th>\n",
       "      <td>93027a697145bb67a134f56e9a3f0d9a</td>\n",
       "      <td>2017-01</td>\n",
       "      <td>0.225806</td>\n",
       "    </tr>\n",
       "    <tr>\n",
       "      <th>50982</th>\n",
       "      <td>9304a65759d081e8c86846970b0e9848</td>\n",
       "      <td>2018-01</td>\n",
       "      <td>0.225806</td>\n",
       "    </tr>\n",
       "    <tr>\n",
       "      <th>50985</th>\n",
       "      <td>93073fef423711fb08efdb2d596d7404</td>\n",
       "      <td>2018-01</td>\n",
       "      <td>0.225806</td>\n",
       "    </tr>\n",
       "    <tr>\n",
       "      <th>50987</th>\n",
       "      <td>930958664b249ce7ea76b0a85db1b1d6</td>\n",
       "      <td>2018-05</td>\n",
       "      <td>0.225806</td>\n",
       "    </tr>\n",
       "    <tr>\n",
       "      <th>...</th>\n",
       "      <td>...</td>\n",
       "      <td>...</td>\n",
       "      <td>...</td>\n",
       "    </tr>\n",
       "    <tr>\n",
       "      <th>61413</th>\n",
       "      <td>b08fab27d47a1eb6deda07bfd965ad43</td>\n",
       "      <td>2017-09</td>\n",
       "      <td>0.933333</td>\n",
       "    </tr>\n",
       "    <tr>\n",
       "      <th>21719</th>\n",
       "      <td>3e43e6105506432c953e165fb2acf44c</td>\n",
       "      <td>2018-02</td>\n",
       "      <td>0.949582</td>\n",
       "    </tr>\n",
       "    <tr>\n",
       "      <th>62898</th>\n",
       "      <td>b4e4f24de1e8725b74e4a1f4975116ed</td>\n",
       "      <td>2018-02</td>\n",
       "      <td>0.980645</td>\n",
       "    </tr>\n",
       "    <tr>\n",
       "      <th>56380</th>\n",
       "      <td>a239b8e2fbce33780f1f1912e2ee5275</td>\n",
       "      <td>2017-02</td>\n",
       "      <td>1.000000</td>\n",
       "    </tr>\n",
       "    <tr>\n",
       "      <th>6675</th>\n",
       "      <td>12f5d6e1cbf93dafd9dcc19095df0b3d</td>\n",
       "      <td>2017-01</td>\n",
       "      <td>1.354839</td>\n",
       "    </tr>\n",
       "  </tbody>\n",
       "</table>\n",
       "<p>88869 rows × 3 columns</p>\n",
       "</div>"
      ],
      "text/plain": [
       "                     customer_unique_id month_of_order  order_per_week\n",
       "0      0000366f3b9a7992bf8c76cfdf3221e2        2018-05        0.225806\n",
       "50980  93027a697145bb67a134f56e9a3f0d9a        2017-01        0.225806\n",
       "50982  9304a65759d081e8c86846970b0e9848        2018-01        0.225806\n",
       "50985  93073fef423711fb08efdb2d596d7404        2018-01        0.225806\n",
       "50987  930958664b249ce7ea76b0a85db1b1d6        2018-05        0.225806\n",
       "...                                 ...            ...             ...\n",
       "61413  b08fab27d47a1eb6deda07bfd965ad43        2017-09        0.933333\n",
       "21719  3e43e6105506432c953e165fb2acf44c        2018-02        0.949582\n",
       "62898  b4e4f24de1e8725b74e4a1f4975116ed        2018-02        0.980645\n",
       "56380  a239b8e2fbce33780f1f1912e2ee5275        2017-02        1.000000\n",
       "6675   12f5d6e1cbf93dafd9dcc19095df0b3d        2017-01        1.354839\n",
       "\n",
       "[88869 rows x 3 columns]"
      ]
     },
     "execution_count": 49,
     "metadata": {},
     "output_type": "execute_result"
    }
   ],
   "source": [
    "result_table"
   ]
  },
  {
   "cell_type": "code",
   "execution_count": 50,
   "metadata": {},
   "outputs": [
    {
     "data": {
      "text/plain": [
       "0.25    0.225806\n",
       "0.50    0.225806\n",
       "0.75    0.233333\n",
       "Name: order_per_week, dtype: float64"
      ]
     },
     "execution_count": 50,
     "metadata": {},
     "output_type": "execute_result"
    }
   ],
   "source": [
    "result_table.order_per_week.quantile([0.25, 0.5, 0.75])"
   ]
  },
  {
   "cell_type": "markdown",
   "metadata": {},
   "source": [
    "У большинства пользователей среднее количество покупок в неделю - 0.226. И только у 25% - 0.233"
   ]
  },
  {
   "cell_type": "markdown",
   "metadata": {},
   "source": [
    "#### Выполнить когортный анализ в период с января по декабрь, с подсчетом Retention"
   ]
  },
  {
   "cell_type": "code",
   "execution_count": 51,
   "metadata": {},
   "outputs": [],
   "source": [
    "# объединим таблицы с данными о покупателях и заказах и создадим копию датафрейма чтобы работать с ней в рамках этой задачи\n",
    "cust_n_order_data = customers.merge(orders, how = 'inner', on = 'customer_id') \n",
    "cust_n_order_data_3 = copy.deepcopy(cust_n_order_data)"
   ]
  },
  {
   "cell_type": "code",
   "execution_count": 52,
   "metadata": {},
   "outputs": [],
   "source": [
    "# следуя ранее установленной логике, оставим только то, что соответсвует нашему определению покупки:\n",
    "cust_n_order_data_3 = cust_n_order_data_3.query(\"order_status == 'delivered' and order_approved_at != 'NaN'\")"
   ]
  },
  {
   "cell_type": "code",
   "execution_count": 53,
   "metadata": {},
   "outputs": [],
   "source": [
    "# приведем столбец с датой заказа к формату месяцев\n",
    "cust_n_order_data_3['order_purchase_timestamp'] = cust_n_order_data_3['order_purchase_timestamp'].dt.to_period('M')"
   ]
  },
  {
   "cell_type": "code",
   "execution_count": 54,
   "metadata": {},
   "outputs": [],
   "source": [
    "#создаем колонку с данными о месяце первого заказа для каждого уникального пользователя.\n",
    "cust_n_order_data_3['first_purchase'] = cust_n_order_data_3.groupby('customer_unique_id')['order_purchase_timestamp'].transform('min')"
   ]
  },
  {
   "cell_type": "code",
   "execution_count": 55,
   "metadata": {},
   "outputs": [
    {
     "data": {
      "text/plain": [
       "order_purchase_timestamp\n",
       "2016-09       1\n",
       "2016-10     265\n",
       "2016-12       1\n",
       "2017-01     748\n",
       "2017-02    1641\n",
       "2017-03    2546\n",
       "2017-04    2303\n",
       "2017-05    3546\n",
       "2017-06    3135\n",
       "2017-07    3872\n",
       "2017-08    4193\n",
       "2017-09    4150\n",
       "2017-10    4478\n",
       "2017-11    7289\n",
       "2017-12    5513\n",
       "2018-01    7069\n",
       "2018-02    6555\n",
       "2018-03    7003\n",
       "2018-04    6798\n",
       "2018-05    6749\n",
       "2018-06    6099\n",
       "2018-07    6159\n",
       "2018-08    6351\n",
       "Freq: M, Name: customer_unique_id, dtype: int64"
      ]
     },
     "execution_count": 55,
     "metadata": {},
     "output_type": "execute_result"
    }
   ],
   "source": [
    "#сделаем группировку по месяцам заказов, чтобы понять, за какой год у нас имеются данные с января по декабрь\n",
    "cust_n_order_data_3.groupby('order_purchase_timestamp').customer_unique_id.count()"
   ]
  },
  {
   "cell_type": "markdown",
   "metadata": {},
   "source": [
    "Полные данные за 12 месяцев есть только для 2017 года, поэтому далее когортный анализ будем проводить только за 2017 год"
   ]
  },
  {
   "cell_type": "code",
   "execution_count": 56,
   "metadata": {},
   "outputs": [],
   "source": [
    "cust_n_order_data_3 = cust_n_order_data_3.query(\"'2017-01' <= first_purchase <= '2017-12'\")"
   ]
  },
  {
   "cell_type": "code",
   "execution_count": 57,
   "metadata": {},
   "outputs": [],
   "source": [
    "# сформируем когорты, для этого сгруппируем данные по дате первого заказа и просто дате заказов, для кадой посчитаем кол-во уникальных пользователей\n",
    "cohort_table = cust_n_order_data_3.groupby(['first_purchase', 'order_purchase_timestamp'],as_index=False).agg({'customer_unique_id': 'nunique'})"
   ]
  },
  {
   "cell_type": "code",
   "execution_count": 58,
   "metadata": {},
   "outputs": [],
   "source": [
    "# добавим столбец в котором будет разница в месяцах между датой первого и последующих заказов\n",
    "cohort_table['dif'] = (cohort_table['order_purchase_timestamp'].dt.year - cohort_table['first_purchase'].dt.year) * 12 + (cohort_table['order_purchase_timestamp'].dt.month - cohort_table['first_purchase'].dt.month)"
   ]
  },
  {
   "cell_type": "code",
   "execution_count": 59,
   "metadata": {},
   "outputs": [],
   "source": [
    "# трансформируем таблицу\n",
    "cohort_table_pivot = cohort_table.pivot(index='first_purchase', columns = 'dif', values = 'customer_unique_id')"
   ]
  },
  {
   "cell_type": "code",
   "execution_count": 60,
   "metadata": {},
   "outputs": [],
   "source": [
    "# рассчитаем retention как отношение числа пользователей за каждый последующий месяц использования с их числом в первый месяц\n",
    "retention = cohort_table_pivot.div(cohort_table_pivot.iloc[:,0], axis = 0)"
   ]
  },
  {
   "cell_type": "code",
   "execution_count": 61,
   "metadata": {},
   "outputs": [
    {
     "data": {
      "text/html": [
       "<style  type=\"text/css\" >\n",
       "#T_4bf6e38e_6ab8_11ef_bdbb_96000040dfb6row0_col0,#T_4bf6e38e_6ab8_11ef_bdbb_96000040dfb6row0_col18,#T_4bf6e38e_6ab8_11ef_bdbb_96000040dfb6row1_col0,#T_4bf6e38e_6ab8_11ef_bdbb_96000040dfb6row1_col1,#T_4bf6e38e_6ab8_11ef_bdbb_96000040dfb6row1_col5,#T_4bf6e38e_6ab8_11ef_bdbb_96000040dfb6row1_col8,#T_4bf6e38e_6ab8_11ef_bdbb_96000040dfb6row1_col10,#T_4bf6e38e_6ab8_11ef_bdbb_96000040dfb6row1_col15,#T_4bf6e38e_6ab8_11ef_bdbb_96000040dfb6row1_col16,#T_4bf6e38e_6ab8_11ef_bdbb_96000040dfb6row2_col0,#T_4bf6e38e_6ab8_11ef_bdbb_96000040dfb6row2_col17,#T_4bf6e38e_6ab8_11ef_bdbb_96000040dfb6row3_col0,#T_4bf6e38e_6ab8_11ef_bdbb_96000040dfb6row3_col2,#T_4bf6e38e_6ab8_11ef_bdbb_96000040dfb6row3_col12,#T_4bf6e38e_6ab8_11ef_bdbb_96000040dfb6row3_col14,#T_4bf6e38e_6ab8_11ef_bdbb_96000040dfb6row4_col0,#T_4bf6e38e_6ab8_11ef_bdbb_96000040dfb6row4_col13,#T_4bf6e38e_6ab8_11ef_bdbb_96000040dfb6row5_col0,#T_4bf6e38e_6ab8_11ef_bdbb_96000040dfb6row6_col0,#T_4bf6e38e_6ab8_11ef_bdbb_96000040dfb6row7_col0,#T_4bf6e38e_6ab8_11ef_bdbb_96000040dfb6row8_col0,#T_4bf6e38e_6ab8_11ef_bdbb_96000040dfb6row8_col11,#T_4bf6e38e_6ab8_11ef_bdbb_96000040dfb6row9_col0,#T_4bf6e38e_6ab8_11ef_bdbb_96000040dfb6row9_col3,#T_4bf6e38e_6ab8_11ef_bdbb_96000040dfb6row10_col0,#T_4bf6e38e_6ab8_11ef_bdbb_96000040dfb6row10_col4,#T_4bf6e38e_6ab8_11ef_bdbb_96000040dfb6row10_col6,#T_4bf6e38e_6ab8_11ef_bdbb_96000040dfb6row10_col9,#T_4bf6e38e_6ab8_11ef_bdbb_96000040dfb6row11_col0,#T_4bf6e38e_6ab8_11ef_bdbb_96000040dfb6row11_col7{\n",
       "            background-color:  #440154;\n",
       "            color:  #f1f1f1;\n",
       "        }#T_4bf6e38e_6ab8_11ef_bdbb_96000040dfb6row0_col1,#T_4bf6e38e_6ab8_11ef_bdbb_96000040dfb6row0_col2{\n",
       "            background-color:  #433d84;\n",
       "            color:  #f1f1f1;\n",
       "        }#T_4bf6e38e_6ab8_11ef_bdbb_96000040dfb6row0_col3{\n",
       "            background-color:  #46327e;\n",
       "            color:  #f1f1f1;\n",
       "        }#T_4bf6e38e_6ab8_11ef_bdbb_96000040dfb6row0_col4{\n",
       "            background-color:  #b8de29;\n",
       "            color:  #000000;\n",
       "        }#T_4bf6e38e_6ab8_11ef_bdbb_96000040dfb6row0_col5,#T_4bf6e38e_6ab8_11ef_bdbb_96000040dfb6row3_col13{\n",
       "            background-color:  #471063;\n",
       "            color:  #f1f1f1;\n",
       "        }#T_4bf6e38e_6ab8_11ef_bdbb_96000040dfb6row0_col6,#T_4bf6e38e_6ab8_11ef_bdbb_96000040dfb6row0_col10,#T_4bf6e38e_6ab8_11ef_bdbb_96000040dfb6row0_col12,#T_4bf6e38e_6ab8_11ef_bdbb_96000040dfb6row0_col13,#T_4bf6e38e_6ab8_11ef_bdbb_96000040dfb6row0_col16,#T_4bf6e38e_6ab8_11ef_bdbb_96000040dfb6row0_col17,#T_4bf6e38e_6ab8_11ef_bdbb_96000040dfb6row2_col8,#T_4bf6e38e_6ab8_11ef_bdbb_96000040dfb6row2_col15,#T_4bf6e38e_6ab8_11ef_bdbb_96000040dfb6row5_col3,#T_4bf6e38e_6ab8_11ef_bdbb_96000040dfb6row5_col11,#T_4bf6e38e_6ab8_11ef_bdbb_96000040dfb6row5_col14,#T_4bf6e38e_6ab8_11ef_bdbb_96000040dfb6row6_col9,#T_4bf6e38e_6ab8_11ef_bdbb_96000040dfb6row7_col5,#T_4bf6e38e_6ab8_11ef_bdbb_96000040dfb6row8_col2,#T_4bf6e38e_6ab8_11ef_bdbb_96000040dfb6row8_col4,#T_4bf6e38e_6ab8_11ef_bdbb_96000040dfb6row9_col1,#T_4bf6e38e_6ab8_11ef_bdbb_96000040dfb6row9_col7{\n",
       "            background-color:  #fde725;\n",
       "            color:  #000000;\n",
       "        }#T_4bf6e38e_6ab8_11ef_bdbb_96000040dfb6row0_col7,#T_4bf6e38e_6ab8_11ef_bdbb_96000040dfb6row5_col13{\n",
       "            background-color:  #2f6b8e;\n",
       "            color:  #f1f1f1;\n",
       "        }#T_4bf6e38e_6ab8_11ef_bdbb_96000040dfb6row0_col8,#T_4bf6e38e_6ab8_11ef_bdbb_96000040dfb6row6_col10{\n",
       "            background-color:  #34608d;\n",
       "            color:  #f1f1f1;\n",
       "        }#T_4bf6e38e_6ab8_11ef_bdbb_96000040dfb6row0_col9,#T_4bf6e38e_6ab8_11ef_bdbb_96000040dfb6row3_col17,#T_4bf6e38e_6ab8_11ef_bdbb_96000040dfb6row4_col16,#T_4bf6e38e_6ab8_11ef_bdbb_96000040dfb6row4_col17,#T_4bf6e38e_6ab8_11ef_bdbb_96000040dfb6row5_col15,#T_4bf6e38e_6ab8_11ef_bdbb_96000040dfb6row5_col16,#T_4bf6e38e_6ab8_11ef_bdbb_96000040dfb6row5_col17,#T_4bf6e38e_6ab8_11ef_bdbb_96000040dfb6row6_col14,#T_4bf6e38e_6ab8_11ef_bdbb_96000040dfb6row6_col15,#T_4bf6e38e_6ab8_11ef_bdbb_96000040dfb6row6_col16,#T_4bf6e38e_6ab8_11ef_bdbb_96000040dfb6row6_col17,#T_4bf6e38e_6ab8_11ef_bdbb_96000040dfb6row7_col13,#T_4bf6e38e_6ab8_11ef_bdbb_96000040dfb6row7_col14,#T_4bf6e38e_6ab8_11ef_bdbb_96000040dfb6row7_col15,#T_4bf6e38e_6ab8_11ef_bdbb_96000040dfb6row7_col16,#T_4bf6e38e_6ab8_11ef_bdbb_96000040dfb6row7_col17,#T_4bf6e38e_6ab8_11ef_bdbb_96000040dfb6row8_col12,#T_4bf6e38e_6ab8_11ef_bdbb_96000040dfb6row8_col13,#T_4bf6e38e_6ab8_11ef_bdbb_96000040dfb6row8_col14,#T_4bf6e38e_6ab8_11ef_bdbb_96000040dfb6row8_col15,#T_4bf6e38e_6ab8_11ef_bdbb_96000040dfb6row8_col16,#T_4bf6e38e_6ab8_11ef_bdbb_96000040dfb6row8_col17,#T_4bf6e38e_6ab8_11ef_bdbb_96000040dfb6row9_col11,#T_4bf6e38e_6ab8_11ef_bdbb_96000040dfb6row9_col12,#T_4bf6e38e_6ab8_11ef_bdbb_96000040dfb6row9_col13,#T_4bf6e38e_6ab8_11ef_bdbb_96000040dfb6row9_col14,#T_4bf6e38e_6ab8_11ef_bdbb_96000040dfb6row9_col15,#T_4bf6e38e_6ab8_11ef_bdbb_96000040dfb6row9_col16,#T_4bf6e38e_6ab8_11ef_bdbb_96000040dfb6row9_col17,#T_4bf6e38e_6ab8_11ef_bdbb_96000040dfb6row10_col10,#T_4bf6e38e_6ab8_11ef_bdbb_96000040dfb6row10_col11,#T_4bf6e38e_6ab8_11ef_bdbb_96000040dfb6row10_col12,#T_4bf6e38e_6ab8_11ef_bdbb_96000040dfb6row10_col13,#T_4bf6e38e_6ab8_11ef_bdbb_96000040dfb6row10_col14,#T_4bf6e38e_6ab8_11ef_bdbb_96000040dfb6row10_col15,#T_4bf6e38e_6ab8_11ef_bdbb_96000040dfb6row10_col16,#T_4bf6e38e_6ab8_11ef_bdbb_96000040dfb6row10_col17,#T_4bf6e38e_6ab8_11ef_bdbb_96000040dfb6row11_col9,#T_4bf6e38e_6ab8_11ef_bdbb_96000040dfb6row11_col10,#T_4bf6e38e_6ab8_11ef_bdbb_96000040dfb6row11_col11,#T_4bf6e38e_6ab8_11ef_bdbb_96000040dfb6row11_col12,#T_4bf6e38e_6ab8_11ef_bdbb_96000040dfb6row11_col13,#T_4bf6e38e_6ab8_11ef_bdbb_96000040dfb6row11_col14,#T_4bf6e38e_6ab8_11ef_bdbb_96000040dfb6row11_col15,#T_4bf6e38e_6ab8_11ef_bdbb_96000040dfb6row11_col16,#T_4bf6e38e_6ab8_11ef_bdbb_96000040dfb6row11_col17{\n",
       "            background-color:  #000000;\n",
       "            color:  #f1f1f1;\n",
       "            background-color:  white;\n",
       "        }#T_4bf6e38e_6ab8_11ef_bdbb_96000040dfb6row0_col11{\n",
       "            background-color:  #3e4a89;\n",
       "            color:  #f1f1f1;\n",
       "        }#T_4bf6e38e_6ab8_11ef_bdbb_96000040dfb6row0_col14,#T_4bf6e38e_6ab8_11ef_bdbb_96000040dfb6row3_col5,#T_4bf6e38e_6ab8_11ef_bdbb_96000040dfb6row4_col7{\n",
       "            background-color:  #2e6f8e;\n",
       "            color:  #f1f1f1;\n",
       "        }#T_4bf6e38e_6ab8_11ef_bdbb_96000040dfb6row0_col15,#T_4bf6e38e_6ab8_11ef_bdbb_96000040dfb6row1_col6,#T_4bf6e38e_6ab8_11ef_bdbb_96000040dfb6row6_col3,#T_4bf6e38e_6ab8_11ef_bdbb_96000040dfb6row6_col4{\n",
       "            background-color:  #26828e;\n",
       "            color:  #000000;\n",
       "        }#T_4bf6e38e_6ab8_11ef_bdbb_96000040dfb6row1_col2{\n",
       "            background-color:  #39568c;\n",
       "            color:  #f1f1f1;\n",
       "        }#T_4bf6e38e_6ab8_11ef_bdbb_96000040dfb6row1_col3,#T_4bf6e38e_6ab8_11ef_bdbb_96000040dfb6row2_col5{\n",
       "            background-color:  #482173;\n",
       "            color:  #f1f1f1;\n",
       "        }#T_4bf6e38e_6ab8_11ef_bdbb_96000040dfb6row1_col4{\n",
       "            background-color:  #d8e219;\n",
       "            color:  #000000;\n",
       "        }#T_4bf6e38e_6ab8_11ef_bdbb_96000040dfb6row1_col7{\n",
       "            background-color:  #238a8d;\n",
       "            color:  #000000;\n",
       "        }#T_4bf6e38e_6ab8_11ef_bdbb_96000040dfb6row1_col9{\n",
       "            background-color:  #25ac82;\n",
       "            color:  #000000;\n",
       "        }#T_4bf6e38e_6ab8_11ef_bdbb_96000040dfb6row1_col11,#T_4bf6e38e_6ab8_11ef_bdbb_96000040dfb6row5_col6{\n",
       "            background-color:  #84d44b;\n",
       "            color:  #000000;\n",
       "        }#T_4bf6e38e_6ab8_11ef_bdbb_96000040dfb6row1_col12{\n",
       "            background-color:  #472c7a;\n",
       "            color:  #f1f1f1;\n",
       "        }#T_4bf6e38e_6ab8_11ef_bdbb_96000040dfb6row1_col13{\n",
       "            background-color:  #2a788e;\n",
       "            color:  #000000;\n",
       "        }#T_4bf6e38e_6ab8_11ef_bdbb_96000040dfb6row1_col14{\n",
       "            background-color:  #3b518b;\n",
       "            color:  #f1f1f1;\n",
       "        }#T_4bf6e38e_6ab8_11ef_bdbb_96000040dfb6row1_col17{\n",
       "            background-color:  #3e4989;\n",
       "            color:  #f1f1f1;\n",
       "        }#T_4bf6e38e_6ab8_11ef_bdbb_96000040dfb6row1_col18,#T_4bf6e38e_6ab8_11ef_bdbb_96000040dfb6row2_col18,#T_4bf6e38e_6ab8_11ef_bdbb_96000040dfb6row3_col18,#T_4bf6e38e_6ab8_11ef_bdbb_96000040dfb6row4_col18,#T_4bf6e38e_6ab8_11ef_bdbb_96000040dfb6row5_col18,#T_4bf6e38e_6ab8_11ef_bdbb_96000040dfb6row6_col18,#T_4bf6e38e_6ab8_11ef_bdbb_96000040dfb6row7_col18,#T_4bf6e38e_6ab8_11ef_bdbb_96000040dfb6row8_col18,#T_4bf6e38e_6ab8_11ef_bdbb_96000040dfb6row9_col18,#T_4bf6e38e_6ab8_11ef_bdbb_96000040dfb6row10_col18,#T_4bf6e38e_6ab8_11ef_bdbb_96000040dfb6row11_col18{\n",
       "            background-color:  #440154;\n",
       "            color:  #f1f1f1;\n",
       "            background-color:  white;\n",
       "        }#T_4bf6e38e_6ab8_11ef_bdbb_96000040dfb6row2_col1{\n",
       "            background-color:  #228b8d;\n",
       "            color:  #000000;\n",
       "        }#T_4bf6e38e_6ab8_11ef_bdbb_96000040dfb6row2_col2{\n",
       "            background-color:  #287d8e;\n",
       "            color:  #000000;\n",
       "        }#T_4bf6e38e_6ab8_11ef_bdbb_96000040dfb6row2_col3{\n",
       "            background-color:  #c8e020;\n",
       "            color:  #000000;\n",
       "        }#T_4bf6e38e_6ab8_11ef_bdbb_96000040dfb6row2_col4{\n",
       "            background-color:  #3aba76;\n",
       "            color:  #000000;\n",
       "        }#T_4bf6e38e_6ab8_11ef_bdbb_96000040dfb6row2_col6,#T_4bf6e38e_6ab8_11ef_bdbb_96000040dfb6row3_col15{\n",
       "            background-color:  #463480;\n",
       "            color:  #f1f1f1;\n",
       "        }#T_4bf6e38e_6ab8_11ef_bdbb_96000040dfb6row2_col7{\n",
       "            background-color:  #a0da39;\n",
       "            color:  #000000;\n",
       "        }#T_4bf6e38e_6ab8_11ef_bdbb_96000040dfb6row2_col9{\n",
       "            background-color:  #482878;\n",
       "            color:  #f1f1f1;\n",
       "        }#T_4bf6e38e_6ab8_11ef_bdbb_96000040dfb6row2_col10{\n",
       "            background-color:  #7ad151;\n",
       "            color:  #000000;\n",
       "        }#T_4bf6e38e_6ab8_11ef_bdbb_96000040dfb6row2_col11{\n",
       "            background-color:  #453781;\n",
       "            color:  #f1f1f1;\n",
       "        }#T_4bf6e38e_6ab8_11ef_bdbb_96000040dfb6row2_col12{\n",
       "            background-color:  #3d4e8a;\n",
       "            color:  #f1f1f1;\n",
       "        }#T_4bf6e38e_6ab8_11ef_bdbb_96000040dfb6row2_col13,#T_4bf6e38e_6ab8_11ef_bdbb_96000040dfb6row10_col3{\n",
       "            background-color:  #3d4d8a;\n",
       "            color:  #f1f1f1;\n",
       "        }#T_4bf6e38e_6ab8_11ef_bdbb_96000040dfb6row2_col14{\n",
       "            background-color:  #21918c;\n",
       "            color:  #000000;\n",
       "        }#T_4bf6e38e_6ab8_11ef_bdbb_96000040dfb6row2_col16{\n",
       "            background-color:  #481f70;\n",
       "            color:  #f1f1f1;\n",
       "        }#T_4bf6e38e_6ab8_11ef_bdbb_96000040dfb6row3_col1{\n",
       "            background-color:  #86d549;\n",
       "            color:  #000000;\n",
       "        }#T_4bf6e38e_6ab8_11ef_bdbb_96000040dfb6row3_col3,#T_4bf6e38e_6ab8_11ef_bdbb_96000040dfb6row6_col7{\n",
       "            background-color:  #3b528b;\n",
       "            color:  #f1f1f1;\n",
       "        }#T_4bf6e38e_6ab8_11ef_bdbb_96000040dfb6row3_col4{\n",
       "            background-color:  #306a8e;\n",
       "            color:  #f1f1f1;\n",
       "        }#T_4bf6e38e_6ab8_11ef_bdbb_96000040dfb6row3_col6{\n",
       "            background-color:  #73d056;\n",
       "            color:  #000000;\n",
       "        }#T_4bf6e38e_6ab8_11ef_bdbb_96000040dfb6row3_col7{\n",
       "            background-color:  #8ed645;\n",
       "            color:  #000000;\n",
       "        }#T_4bf6e38e_6ab8_11ef_bdbb_96000040dfb6row3_col8{\n",
       "            background-color:  #e7e419;\n",
       "            color:  #000000;\n",
       "        }#T_4bf6e38e_6ab8_11ef_bdbb_96000040dfb6row3_col9{\n",
       "            background-color:  #1fa287;\n",
       "            color:  #000000;\n",
       "        }#T_4bf6e38e_6ab8_11ef_bdbb_96000040dfb6row3_col10,#T_4bf6e38e_6ab8_11ef_bdbb_96000040dfb6row6_col8{\n",
       "            background-color:  #228c8d;\n",
       "            color:  #000000;\n",
       "        }#T_4bf6e38e_6ab8_11ef_bdbb_96000040dfb6row3_col11{\n",
       "            background-color:  #471365;\n",
       "            color:  #f1f1f1;\n",
       "        }#T_4bf6e38e_6ab8_11ef_bdbb_96000040dfb6row3_col16{\n",
       "            background-color:  #31668e;\n",
       "            color:  #f1f1f1;\n",
       "        }#T_4bf6e38e_6ab8_11ef_bdbb_96000040dfb6row4_col1{\n",
       "            background-color:  #1f968b;\n",
       "            color:  #000000;\n",
       "        }#T_4bf6e38e_6ab8_11ef_bdbb_96000040dfb6row4_col2{\n",
       "            background-color:  #56c667;\n",
       "            color:  #000000;\n",
       "        }#T_4bf6e38e_6ab8_11ef_bdbb_96000040dfb6row4_col3{\n",
       "            background-color:  #21a585;\n",
       "            color:  #000000;\n",
       "        }#T_4bf6e38e_6ab8_11ef_bdbb_96000040dfb6row4_col4,#T_4bf6e38e_6ab8_11ef_bdbb_96000040dfb6row8_col10{\n",
       "            background-color:  #277f8e;\n",
       "            color:  #000000;\n",
       "        }#T_4bf6e38e_6ab8_11ef_bdbb_96000040dfb6row4_col5{\n",
       "            background-color:  #218f8d;\n",
       "            color:  #000000;\n",
       "        }#T_4bf6e38e_6ab8_11ef_bdbb_96000040dfb6row4_col6{\n",
       "            background-color:  #e2e418;\n",
       "            color:  #000000;\n",
       "        }#T_4bf6e38e_6ab8_11ef_bdbb_96000040dfb6row4_col8{\n",
       "            background-color:  #69cd5b;\n",
       "            color:  #000000;\n",
       "        }#T_4bf6e38e_6ab8_11ef_bdbb_96000040dfb6row4_col9{\n",
       "            background-color:  #efe51c;\n",
       "            color:  #000000;\n",
       "        }#T_4bf6e38e_6ab8_11ef_bdbb_96000040dfb6row4_col10{\n",
       "            background-color:  #24878e;\n",
       "            color:  #000000;\n",
       "        }#T_4bf6e38e_6ab8_11ef_bdbb_96000040dfb6row4_col11,#T_4bf6e38e_6ab8_11ef_bdbb_96000040dfb6row7_col1{\n",
       "            background-color:  #dfe318;\n",
       "            color:  #000000;\n",
       "        }#T_4bf6e38e_6ab8_11ef_bdbb_96000040dfb6row4_col12{\n",
       "            background-color:  #365c8d;\n",
       "            color:  #f1f1f1;\n",
       "        }#T_4bf6e38e_6ab8_11ef_bdbb_96000040dfb6row4_col14{\n",
       "            background-color:  #22a884;\n",
       "            color:  #000000;\n",
       "        }#T_4bf6e38e_6ab8_11ef_bdbb_96000040dfb6row4_col15{\n",
       "            background-color:  #75d054;\n",
       "            color:  #000000;\n",
       "        }#T_4bf6e38e_6ab8_11ef_bdbb_96000040dfb6row5_col1{\n",
       "            background-color:  #20a386;\n",
       "            color:  #000000;\n",
       "        }#T_4bf6e38e_6ab8_11ef_bdbb_96000040dfb6row5_col2{\n",
       "            background-color:  #1f978b;\n",
       "            color:  #000000;\n",
       "        }#T_4bf6e38e_6ab8_11ef_bdbb_96000040dfb6row5_col4{\n",
       "            background-color:  #25848e;\n",
       "            color:  #000000;\n",
       "        }#T_4bf6e38e_6ab8_11ef_bdbb_96000040dfb6row5_col5{\n",
       "            background-color:  #3fbc73;\n",
       "            color:  #000000;\n",
       "        }#T_4bf6e38e_6ab8_11ef_bdbb_96000040dfb6row5_col7{\n",
       "            background-color:  #23a983;\n",
       "            color:  #000000;\n",
       "        }#T_4bf6e38e_6ab8_11ef_bdbb_96000040dfb6row5_col8{\n",
       "            background-color:  #38588c;\n",
       "            color:  #f1f1f1;\n",
       "        }#T_4bf6e38e_6ab8_11ef_bdbb_96000040dfb6row5_col9{\n",
       "            background-color:  #37b878;\n",
       "            color:  #000000;\n",
       "        }#T_4bf6e38e_6ab8_11ef_bdbb_96000040dfb6row5_col10{\n",
       "            background-color:  #20a486;\n",
       "            color:  #000000;\n",
       "        }#T_4bf6e38e_6ab8_11ef_bdbb_96000040dfb6row5_col12{\n",
       "            background-color:  #423f85;\n",
       "            color:  #f1f1f1;\n",
       "        }#T_4bf6e38e_6ab8_11ef_bdbb_96000040dfb6row6_col1{\n",
       "            background-color:  #31b57b;\n",
       "            color:  #000000;\n",
       "        }#T_4bf6e38e_6ab8_11ef_bdbb_96000040dfb6row6_col2{\n",
       "            background-color:  #2c738e;\n",
       "            color:  #f1f1f1;\n",
       "        }#T_4bf6e38e_6ab8_11ef_bdbb_96000040dfb6row6_col5{\n",
       "            background-color:  #3e4c8a;\n",
       "            color:  #f1f1f1;\n",
       "        }#T_4bf6e38e_6ab8_11ef_bdbb_96000040dfb6row6_col6{\n",
       "            background-color:  #38b977;\n",
       "            color:  #000000;\n",
       "        }#T_4bf6e38e_6ab8_11ef_bdbb_96000040dfb6row6_col11{\n",
       "            background-color:  #63cb5f;\n",
       "            color:  #000000;\n",
       "        }#T_4bf6e38e_6ab8_11ef_bdbb_96000040dfb6row6_col12{\n",
       "            background-color:  #472f7d;\n",
       "            color:  #f1f1f1;\n",
       "        }#T_4bf6e38e_6ab8_11ef_bdbb_96000040dfb6row6_col13{\n",
       "            background-color:  #1f9a8a;\n",
       "            color:  #000000;\n",
       "        }#T_4bf6e38e_6ab8_11ef_bdbb_96000040dfb6row7_col2{\n",
       "            background-color:  #2c728e;\n",
       "            color:  #f1f1f1;\n",
       "        }#T_4bf6e38e_6ab8_11ef_bdbb_96000040dfb6row7_col3{\n",
       "            background-color:  #1f988b;\n",
       "            color:  #000000;\n",
       "        }#T_4bf6e38e_6ab8_11ef_bdbb_96000040dfb6row7_col4{\n",
       "            background-color:  #28ae80;\n",
       "            color:  #000000;\n",
       "        }#T_4bf6e38e_6ab8_11ef_bdbb_96000040dfb6row7_col6{\n",
       "            background-color:  #22a785;\n",
       "            color:  #000000;\n",
       "        }#T_4bf6e38e_6ab8_11ef_bdbb_96000040dfb6row7_col7{\n",
       "            background-color:  #4ec36b;\n",
       "            color:  #000000;\n",
       "        }#T_4bf6e38e_6ab8_11ef_bdbb_96000040dfb6row7_col8{\n",
       "            background-color:  #31688e;\n",
       "            color:  #f1f1f1;\n",
       "        }#T_4bf6e38e_6ab8_11ef_bdbb_96000040dfb6row7_col9{\n",
       "            background-color:  #26818e;\n",
       "            color:  #000000;\n",
       "        }#T_4bf6e38e_6ab8_11ef_bdbb_96000040dfb6row7_col10{\n",
       "            background-color:  #287c8e;\n",
       "            color:  #000000;\n",
       "        }#T_4bf6e38e_6ab8_11ef_bdbb_96000040dfb6row7_col11{\n",
       "            background-color:  #277e8e;\n",
       "            color:  #000000;\n",
       "        }#T_4bf6e38e_6ab8_11ef_bdbb_96000040dfb6row7_col12{\n",
       "            background-color:  #472a7a;\n",
       "            color:  #f1f1f1;\n",
       "        }#T_4bf6e38e_6ab8_11ef_bdbb_96000040dfb6row8_col1{\n",
       "            background-color:  #eae51a;\n",
       "            color:  #000000;\n",
       "        }#T_4bf6e38e_6ab8_11ef_bdbb_96000040dfb6row8_col3{\n",
       "            background-color:  #1e9b8a;\n",
       "            color:  #000000;\n",
       "        }#T_4bf6e38e_6ab8_11ef_bdbb_96000040dfb6row8_col5,#T_4bf6e38e_6ab8_11ef_bdbb_96000040dfb6row10_col8{\n",
       "            background-color:  #3a538b;\n",
       "            color:  #f1f1f1;\n",
       "        }#T_4bf6e38e_6ab8_11ef_bdbb_96000040dfb6row8_col6{\n",
       "            background-color:  #2d708e;\n",
       "            color:  #f1f1f1;\n",
       "        }#T_4bf6e38e_6ab8_11ef_bdbb_96000040dfb6row8_col7{\n",
       "            background-color:  #32b67a;\n",
       "            color:  #000000;\n",
       "        }#T_4bf6e38e_6ab8_11ef_bdbb_96000040dfb6row8_col8{\n",
       "            background-color:  #8bd646;\n",
       "            color:  #000000;\n",
       "        }#T_4bf6e38e_6ab8_11ef_bdbb_96000040dfb6row8_col9{\n",
       "            background-color:  #1fa088;\n",
       "            color:  #000000;\n",
       "        }#T_4bf6e38e_6ab8_11ef_bdbb_96000040dfb6row9_col2{\n",
       "            background-color:  #482475;\n",
       "            color:  #f1f1f1;\n",
       "        }#T_4bf6e38e_6ab8_11ef_bdbb_96000040dfb6row9_col4{\n",
       "            background-color:  #3f4889;\n",
       "            color:  #f1f1f1;\n",
       "        }#T_4bf6e38e_6ab8_11ef_bdbb_96000040dfb6row9_col5{\n",
       "            background-color:  #3f4788;\n",
       "            color:  #f1f1f1;\n",
       "        }#T_4bf6e38e_6ab8_11ef_bdbb_96000040dfb6row9_col6{\n",
       "            background-color:  #33628d;\n",
       "            color:  #f1f1f1;\n",
       "        }#T_4bf6e38e_6ab8_11ef_bdbb_96000040dfb6row9_col8{\n",
       "            background-color:  #90d743;\n",
       "            color:  #000000;\n",
       "        }#T_4bf6e38e_6ab8_11ef_bdbb_96000040dfb6row9_col9{\n",
       "            background-color:  #25ab82;\n",
       "            color:  #000000;\n",
       "        }#T_4bf6e38e_6ab8_11ef_bdbb_96000040dfb6row9_col10{\n",
       "            background-color:  #375b8d;\n",
       "            color:  #f1f1f1;\n",
       "        }#T_4bf6e38e_6ab8_11ef_bdbb_96000040dfb6row10_col1{\n",
       "            background-color:  #4cc26c;\n",
       "            color:  #000000;\n",
       "        }#T_4bf6e38e_6ab8_11ef_bdbb_96000040dfb6row10_col2{\n",
       "            background-color:  #25838e;\n",
       "            color:  #000000;\n",
       "        }#T_4bf6e38e_6ab8_11ef_bdbb_96000040dfb6row10_col5{\n",
       "            background-color:  #453581;\n",
       "            color:  #f1f1f1;\n",
       "        }#T_4bf6e38e_6ab8_11ef_bdbb_96000040dfb6row10_col7{\n",
       "            background-color:  #23898e;\n",
       "            color:  #000000;\n",
       "        }#T_4bf6e38e_6ab8_11ef_bdbb_96000040dfb6row11_col1{\n",
       "            background-color:  #470e61;\n",
       "            color:  #f1f1f1;\n",
       "        }#T_4bf6e38e_6ab8_11ef_bdbb_96000040dfb6row11_col2,#T_4bf6e38e_6ab8_11ef_bdbb_96000040dfb6row11_col6{\n",
       "            background-color:  #433e85;\n",
       "            color:  #f1f1f1;\n",
       "        }#T_4bf6e38e_6ab8_11ef_bdbb_96000040dfb6row11_col3{\n",
       "            background-color:  #52c569;\n",
       "            color:  #000000;\n",
       "        }#T_4bf6e38e_6ab8_11ef_bdbb_96000040dfb6row11_col4{\n",
       "            background-color:  #31678e;\n",
       "            color:  #f1f1f1;\n",
       "        }#T_4bf6e38e_6ab8_11ef_bdbb_96000040dfb6row11_col5{\n",
       "            background-color:  #404688;\n",
       "            color:  #f1f1f1;\n",
       "        }#T_4bf6e38e_6ab8_11ef_bdbb_96000040dfb6row11_col8{\n",
       "            background-color:  #228d8d;\n",
       "            color:  #000000;\n",
       "        }</style><table id=\"T_4bf6e38e_6ab8_11ef_bdbb_96000040dfb6\" ><caption>User retention by cohort</caption><thead>    <tr>        <th class=\"index_name level0\" >dif</th>        <th class=\"col_heading level0 col0\" >0</th>        <th class=\"col_heading level0 col1\" >1</th>        <th class=\"col_heading level0 col2\" >2</th>        <th class=\"col_heading level0 col3\" >3</th>        <th class=\"col_heading level0 col4\" >4</th>        <th class=\"col_heading level0 col5\" >5</th>        <th class=\"col_heading level0 col6\" >6</th>        <th class=\"col_heading level0 col7\" >7</th>        <th class=\"col_heading level0 col8\" >8</th>        <th class=\"col_heading level0 col9\" >9</th>        <th class=\"col_heading level0 col10\" >10</th>        <th class=\"col_heading level0 col11\" >11</th>        <th class=\"col_heading level0 col12\" >12</th>        <th class=\"col_heading level0 col13\" >13</th>        <th class=\"col_heading level0 col14\" >14</th>        <th class=\"col_heading level0 col15\" >15</th>        <th class=\"col_heading level0 col16\" >16</th>        <th class=\"col_heading level0 col17\" >17</th>        <th class=\"col_heading level0 col18\" >19</th>    </tr>    <tr>        <th class=\"index_name level0\" >first_purchase</th>        <th class=\"blank\" ></th>        <th class=\"blank\" ></th>        <th class=\"blank\" ></th>        <th class=\"blank\" ></th>        <th class=\"blank\" ></th>        <th class=\"blank\" ></th>        <th class=\"blank\" ></th>        <th class=\"blank\" ></th>        <th class=\"blank\" ></th>        <th class=\"blank\" ></th>        <th class=\"blank\" ></th>        <th class=\"blank\" ></th>        <th class=\"blank\" ></th>        <th class=\"blank\" ></th>        <th class=\"blank\" ></th>        <th class=\"blank\" ></th>        <th class=\"blank\" ></th>        <th class=\"blank\" ></th>        <th class=\"blank\" ></th>    </tr></thead><tbody>\n",
       "                <tr>\n",
       "                        <th id=\"T_4bf6e38e_6ab8_11ef_bdbb_96000040dfb6level0_row0\" class=\"row_heading level0 row0\" >2017-01</th>\n",
       "                        <td id=\"T_4bf6e38e_6ab8_11ef_bdbb_96000040dfb6row0_col0\" class=\"data row0 col0\" >100.00%</td>\n",
       "                        <td id=\"T_4bf6e38e_6ab8_11ef_bdbb_96000040dfb6row0_col1\" class=\"data row0 col1\" >0.28%</td>\n",
       "                        <td id=\"T_4bf6e38e_6ab8_11ef_bdbb_96000040dfb6row0_col2\" class=\"data row0 col2\" >0.28%</td>\n",
       "                        <td id=\"T_4bf6e38e_6ab8_11ef_bdbb_96000040dfb6row0_col3\" class=\"data row0 col3\" >0.14%</td>\n",
       "                        <td id=\"T_4bf6e38e_6ab8_11ef_bdbb_96000040dfb6row0_col4\" class=\"data row0 col4\" >0.42%</td>\n",
       "                        <td id=\"T_4bf6e38e_6ab8_11ef_bdbb_96000040dfb6row0_col5\" class=\"data row0 col5\" >0.14%</td>\n",
       "                        <td id=\"T_4bf6e38e_6ab8_11ef_bdbb_96000040dfb6row0_col6\" class=\"data row0 col6\" >0.42%</td>\n",
       "                        <td id=\"T_4bf6e38e_6ab8_11ef_bdbb_96000040dfb6row0_col7\" class=\"data row0 col7\" >0.14%</td>\n",
       "                        <td id=\"T_4bf6e38e_6ab8_11ef_bdbb_96000040dfb6row0_col8\" class=\"data row0 col8\" >0.14%</td>\n",
       "                        <td id=\"T_4bf6e38e_6ab8_11ef_bdbb_96000040dfb6row0_col9\" class=\"data row0 col9\" ></td>\n",
       "                        <td id=\"T_4bf6e38e_6ab8_11ef_bdbb_96000040dfb6row0_col10\" class=\"data row0 col10\" >0.42%</td>\n",
       "                        <td id=\"T_4bf6e38e_6ab8_11ef_bdbb_96000040dfb6row0_col11\" class=\"data row0 col11\" >0.14%</td>\n",
       "                        <td id=\"T_4bf6e38e_6ab8_11ef_bdbb_96000040dfb6row0_col12\" class=\"data row0 col12\" >0.70%</td>\n",
       "                        <td id=\"T_4bf6e38e_6ab8_11ef_bdbb_96000040dfb6row0_col13\" class=\"data row0 col13\" >0.42%</td>\n",
       "                        <td id=\"T_4bf6e38e_6ab8_11ef_bdbb_96000040dfb6row0_col14\" class=\"data row0 col14\" >0.14%</td>\n",
       "                        <td id=\"T_4bf6e38e_6ab8_11ef_bdbb_96000040dfb6row0_col15\" class=\"data row0 col15\" >0.14%</td>\n",
       "                        <td id=\"T_4bf6e38e_6ab8_11ef_bdbb_96000040dfb6row0_col16\" class=\"data row0 col16\" >0.28%</td>\n",
       "                        <td id=\"T_4bf6e38e_6ab8_11ef_bdbb_96000040dfb6row0_col17\" class=\"data row0 col17\" >0.42%</td>\n",
       "                        <td id=\"T_4bf6e38e_6ab8_11ef_bdbb_96000040dfb6row0_col18\" class=\"data row0 col18\" >0.14%</td>\n",
       "            </tr>\n",
       "            <tr>\n",
       "                        <th id=\"T_4bf6e38e_6ab8_11ef_bdbb_96000040dfb6level0_row1\" class=\"row_heading level0 row1\" >2017-02</th>\n",
       "                        <td id=\"T_4bf6e38e_6ab8_11ef_bdbb_96000040dfb6row1_col0\" class=\"data row1 col0\" >100.00%</td>\n",
       "                        <td id=\"T_4bf6e38e_6ab8_11ef_bdbb_96000040dfb6row1_col1\" class=\"data row1 col1\" >0.19%</td>\n",
       "                        <td id=\"T_4bf6e38e_6ab8_11ef_bdbb_96000040dfb6row1_col2\" class=\"data row1 col2\" >0.31%</td>\n",
       "                        <td id=\"T_4bf6e38e_6ab8_11ef_bdbb_96000040dfb6row1_col3\" class=\"data row1 col3\" >0.12%</td>\n",
       "                        <td id=\"T_4bf6e38e_6ab8_11ef_bdbb_96000040dfb6row1_col4\" class=\"data row1 col4\" >0.43%</td>\n",
       "                        <td id=\"T_4bf6e38e_6ab8_11ef_bdbb_96000040dfb6row1_col5\" class=\"data row1 col5\" >0.12%</td>\n",
       "                        <td id=\"T_4bf6e38e_6ab8_11ef_bdbb_96000040dfb6row1_col6\" class=\"data row1 col6\" >0.25%</td>\n",
       "                        <td id=\"T_4bf6e38e_6ab8_11ef_bdbb_96000040dfb6row1_col7\" class=\"data row1 col7\" >0.19%</td>\n",
       "                        <td id=\"T_4bf6e38e_6ab8_11ef_bdbb_96000040dfb6row1_col8\" class=\"data row1 col8\" >0.06%</td>\n",
       "                        <td id=\"T_4bf6e38e_6ab8_11ef_bdbb_96000040dfb6row1_col9\" class=\"data row1 col9\" >0.19%</td>\n",
       "                        <td id=\"T_4bf6e38e_6ab8_11ef_bdbb_96000040dfb6row1_col10\" class=\"data row1 col10\" >0.12%</td>\n",
       "                        <td id=\"T_4bf6e38e_6ab8_11ef_bdbb_96000040dfb6row1_col11\" class=\"data row1 col11\" >0.31%</td>\n",
       "                        <td id=\"T_4bf6e38e_6ab8_11ef_bdbb_96000040dfb6row1_col12\" class=\"data row1 col12\" >0.12%</td>\n",
       "                        <td id=\"T_4bf6e38e_6ab8_11ef_bdbb_96000040dfb6row1_col13\" class=\"data row1 col13\" >0.19%</td>\n",
       "                        <td id=\"T_4bf6e38e_6ab8_11ef_bdbb_96000040dfb6row1_col14\" class=\"data row1 col14\" >0.12%</td>\n",
       "                        <td id=\"T_4bf6e38e_6ab8_11ef_bdbb_96000040dfb6row1_col15\" class=\"data row1 col15\" >0.06%</td>\n",
       "                        <td id=\"T_4bf6e38e_6ab8_11ef_bdbb_96000040dfb6row1_col16\" class=\"data row1 col16\" >0.06%</td>\n",
       "                        <td id=\"T_4bf6e38e_6ab8_11ef_bdbb_96000040dfb6row1_col17\" class=\"data row1 col17\" >0.19%</td>\n",
       "                        <td id=\"T_4bf6e38e_6ab8_11ef_bdbb_96000040dfb6row1_col18\" class=\"data row1 col18\" ></td>\n",
       "            </tr>\n",
       "            <tr>\n",
       "                        <th id=\"T_4bf6e38e_6ab8_11ef_bdbb_96000040dfb6level0_row2\" class=\"row_heading level0 row2\" >2017-03</th>\n",
       "                        <td id=\"T_4bf6e38e_6ab8_11ef_bdbb_96000040dfb6row2_col0\" class=\"data row2 col0\" >100.00%</td>\n",
       "                        <td id=\"T_4bf6e38e_6ab8_11ef_bdbb_96000040dfb6row2_col1\" class=\"data row2 col1\" >0.44%</td>\n",
       "                        <td id=\"T_4bf6e38e_6ab8_11ef_bdbb_96000040dfb6row2_col2\" class=\"data row2 col2\" >0.36%</td>\n",
       "                        <td id=\"T_4bf6e38e_6ab8_11ef_bdbb_96000040dfb6row2_col3\" class=\"data row2 col3\" >0.40%</td>\n",
       "                        <td id=\"T_4bf6e38e_6ab8_11ef_bdbb_96000040dfb6row2_col4\" class=\"data row2 col4\" >0.36%</td>\n",
       "                        <td id=\"T_4bf6e38e_6ab8_11ef_bdbb_96000040dfb6row2_col5\" class=\"data row2 col5\" >0.16%</td>\n",
       "                        <td id=\"T_4bf6e38e_6ab8_11ef_bdbb_96000040dfb6row2_col6\" class=\"data row2 col6\" >0.16%</td>\n",
       "                        <td id=\"T_4bf6e38e_6ab8_11ef_bdbb_96000040dfb6row2_col7\" class=\"data row2 col7\" >0.32%</td>\n",
       "                        <td id=\"T_4bf6e38e_6ab8_11ef_bdbb_96000040dfb6row2_col8\" class=\"data row2 col8\" >0.32%</td>\n",
       "                        <td id=\"T_4bf6e38e_6ab8_11ef_bdbb_96000040dfb6row2_col9\" class=\"data row2 col9\" >0.08%</td>\n",
       "                        <td id=\"T_4bf6e38e_6ab8_11ef_bdbb_96000040dfb6row2_col10\" class=\"data row2 col10\" >0.36%</td>\n",
       "                        <td id=\"T_4bf6e38e_6ab8_11ef_bdbb_96000040dfb6row2_col11\" class=\"data row2 col11\" >0.12%</td>\n",
       "                        <td id=\"T_4bf6e38e_6ab8_11ef_bdbb_96000040dfb6row2_col12\" class=\"data row2 col12\" >0.20%</td>\n",
       "                        <td id=\"T_4bf6e38e_6ab8_11ef_bdbb_96000040dfb6row2_col13\" class=\"data row2 col13\" >0.12%</td>\n",
       "                        <td id=\"T_4bf6e38e_6ab8_11ef_bdbb_96000040dfb6row2_col14\" class=\"data row2 col14\" >0.16%</td>\n",
       "                        <td id=\"T_4bf6e38e_6ab8_11ef_bdbb_96000040dfb6row2_col15\" class=\"data row2 col15\" >0.24%</td>\n",
       "                        <td id=\"T_4bf6e38e_6ab8_11ef_bdbb_96000040dfb6row2_col16\" class=\"data row2 col16\" >0.08%</td>\n",
       "                        <td id=\"T_4bf6e38e_6ab8_11ef_bdbb_96000040dfb6row2_col17\" class=\"data row2 col17\" >0.12%</td>\n",
       "                        <td id=\"T_4bf6e38e_6ab8_11ef_bdbb_96000040dfb6row2_col18\" class=\"data row2 col18\" ></td>\n",
       "            </tr>\n",
       "            <tr>\n",
       "                        <th id=\"T_4bf6e38e_6ab8_11ef_bdbb_96000040dfb6level0_row3\" class=\"row_heading level0 row3\" >2017-04</th>\n",
       "                        <td id=\"T_4bf6e38e_6ab8_11ef_bdbb_96000040dfb6row3_col0\" class=\"data row3 col0\" >100.00%</td>\n",
       "                        <td id=\"T_4bf6e38e_6ab8_11ef_bdbb_96000040dfb6row3_col1\" class=\"data row3 col1\" >0.62%</td>\n",
       "                        <td id=\"T_4bf6e38e_6ab8_11ef_bdbb_96000040dfb6row3_col2\" class=\"data row3 col2\" >0.22%</td>\n",
       "                        <td id=\"T_4bf6e38e_6ab8_11ef_bdbb_96000040dfb6row3_col3\" class=\"data row3 col3\" >0.18%</td>\n",
       "                        <td id=\"T_4bf6e38e_6ab8_11ef_bdbb_96000040dfb6row3_col4\" class=\"data row3 col4\" >0.27%</td>\n",
       "                        <td id=\"T_4bf6e38e_6ab8_11ef_bdbb_96000040dfb6row3_col5\" class=\"data row3 col5\" >0.27%</td>\n",
       "                        <td id=\"T_4bf6e38e_6ab8_11ef_bdbb_96000040dfb6row3_col6\" class=\"data row3 col6\" >0.35%</td>\n",
       "                        <td id=\"T_4bf6e38e_6ab8_11ef_bdbb_96000040dfb6row3_col7\" class=\"data row3 col7\" >0.31%</td>\n",
       "                        <td id=\"T_4bf6e38e_6ab8_11ef_bdbb_96000040dfb6row3_col8\" class=\"data row3 col8\" >0.31%</td>\n",
       "                        <td id=\"T_4bf6e38e_6ab8_11ef_bdbb_96000040dfb6row3_col9\" class=\"data row3 col9\" >0.18%</td>\n",
       "                        <td id=\"T_4bf6e38e_6ab8_11ef_bdbb_96000040dfb6row3_col10\" class=\"data row3 col10\" >0.27%</td>\n",
       "                        <td id=\"T_4bf6e38e_6ab8_11ef_bdbb_96000040dfb6row3_col11\" class=\"data row3 col11\" >0.09%</td>\n",
       "                        <td id=\"T_4bf6e38e_6ab8_11ef_bdbb_96000040dfb6row3_col12\" class=\"data row3 col12\" >0.04%</td>\n",
       "                        <td id=\"T_4bf6e38e_6ab8_11ef_bdbb_96000040dfb6row3_col13\" class=\"data row3 col13\" >0.04%</td>\n",
       "                        <td id=\"T_4bf6e38e_6ab8_11ef_bdbb_96000040dfb6row3_col14\" class=\"data row3 col14\" >0.09%</td>\n",
       "                        <td id=\"T_4bf6e38e_6ab8_11ef_bdbb_96000040dfb6row3_col15\" class=\"data row3 col15\" >0.09%</td>\n",
       "                        <td id=\"T_4bf6e38e_6ab8_11ef_bdbb_96000040dfb6row3_col16\" class=\"data row3 col16\" >0.13%</td>\n",
       "                        <td id=\"T_4bf6e38e_6ab8_11ef_bdbb_96000040dfb6row3_col17\" class=\"data row3 col17\" ></td>\n",
       "                        <td id=\"T_4bf6e38e_6ab8_11ef_bdbb_96000040dfb6row3_col18\" class=\"data row3 col18\" ></td>\n",
       "            </tr>\n",
       "            <tr>\n",
       "                        <th id=\"T_4bf6e38e_6ab8_11ef_bdbb_96000040dfb6level0_row4\" class=\"row_heading level0 row4\" >2017-05</th>\n",
       "                        <td id=\"T_4bf6e38e_6ab8_11ef_bdbb_96000040dfb6row4_col0\" class=\"data row4 col0\" >100.00%</td>\n",
       "                        <td id=\"T_4bf6e38e_6ab8_11ef_bdbb_96000040dfb6row4_col1\" class=\"data row4 col1\" >0.46%</td>\n",
       "                        <td id=\"T_4bf6e38e_6ab8_11ef_bdbb_96000040dfb6row4_col2\" class=\"data row4 col2\" >0.46%</td>\n",
       "                        <td id=\"T_4bf6e38e_6ab8_11ef_bdbb_96000040dfb6row4_col3\" class=\"data row4 col3\" >0.29%</td>\n",
       "                        <td id=\"T_4bf6e38e_6ab8_11ef_bdbb_96000040dfb6row4_col4\" class=\"data row4 col4\" >0.29%</td>\n",
       "                        <td id=\"T_4bf6e38e_6ab8_11ef_bdbb_96000040dfb6row4_col5\" class=\"data row4 col5\" >0.32%</td>\n",
       "                        <td id=\"T_4bf6e38e_6ab8_11ef_bdbb_96000040dfb6row4_col6\" class=\"data row4 col6\" >0.41%</td>\n",
       "                        <td id=\"T_4bf6e38e_6ab8_11ef_bdbb_96000040dfb6row4_col7\" class=\"data row4 col7\" >0.14%</td>\n",
       "                        <td id=\"T_4bf6e38e_6ab8_11ef_bdbb_96000040dfb6row4_col8\" class=\"data row4 col8\" >0.26%</td>\n",
       "                        <td id=\"T_4bf6e38e_6ab8_11ef_bdbb_96000040dfb6row4_col9\" class=\"data row4 col9\" >0.26%</td>\n",
       "                        <td id=\"T_4bf6e38e_6ab8_11ef_bdbb_96000040dfb6row4_col10\" class=\"data row4 col10\" >0.26%</td>\n",
       "                        <td id=\"T_4bf6e38e_6ab8_11ef_bdbb_96000040dfb6row4_col11\" class=\"data row4 col11\" >0.35%</td>\n",
       "                        <td id=\"T_4bf6e38e_6ab8_11ef_bdbb_96000040dfb6row4_col12\" class=\"data row4 col12\" >0.23%</td>\n",
       "                        <td id=\"T_4bf6e38e_6ab8_11ef_bdbb_96000040dfb6row4_col13\" class=\"data row4 col13\" >0.03%</td>\n",
       "                        <td id=\"T_4bf6e38e_6ab8_11ef_bdbb_96000040dfb6row4_col14\" class=\"data row4 col14\" >0.17%</td>\n",
       "                        <td id=\"T_4bf6e38e_6ab8_11ef_bdbb_96000040dfb6row4_col15\" class=\"data row4 col15\" >0.20%</td>\n",
       "                        <td id=\"T_4bf6e38e_6ab8_11ef_bdbb_96000040dfb6row4_col16\" class=\"data row4 col16\" ></td>\n",
       "                        <td id=\"T_4bf6e38e_6ab8_11ef_bdbb_96000040dfb6row4_col17\" class=\"data row4 col17\" ></td>\n",
       "                        <td id=\"T_4bf6e38e_6ab8_11ef_bdbb_96000040dfb6row4_col18\" class=\"data row4 col18\" ></td>\n",
       "            </tr>\n",
       "            <tr>\n",
       "                        <th id=\"T_4bf6e38e_6ab8_11ef_bdbb_96000040dfb6level0_row5\" class=\"row_heading level0 row5\" >2017-06</th>\n",
       "                        <td id=\"T_4bf6e38e_6ab8_11ef_bdbb_96000040dfb6row5_col0\" class=\"data row5 col0\" >100.00%</td>\n",
       "                        <td id=\"T_4bf6e38e_6ab8_11ef_bdbb_96000040dfb6row5_col1\" class=\"data row5 col1\" >0.49%</td>\n",
       "                        <td id=\"T_4bf6e38e_6ab8_11ef_bdbb_96000040dfb6row5_col2\" class=\"data row5 col2\" >0.40%</td>\n",
       "                        <td id=\"T_4bf6e38e_6ab8_11ef_bdbb_96000040dfb6row5_col3\" class=\"data row5 col3\" >0.43%</td>\n",
       "                        <td id=\"T_4bf6e38e_6ab8_11ef_bdbb_96000040dfb6row5_col4\" class=\"data row5 col4\" >0.30%</td>\n",
       "                        <td id=\"T_4bf6e38e_6ab8_11ef_bdbb_96000040dfb6row5_col5\" class=\"data row5 col5\" >0.40%</td>\n",
       "                        <td id=\"T_4bf6e38e_6ab8_11ef_bdbb_96000040dfb6row5_col6\" class=\"data row5 col6\" >0.36%</td>\n",
       "                        <td id=\"T_4bf6e38e_6ab8_11ef_bdbb_96000040dfb6row5_col7\" class=\"data row5 col7\" >0.23%</td>\n",
       "                        <td id=\"T_4bf6e38e_6ab8_11ef_bdbb_96000040dfb6row5_col8\" class=\"data row5 col8\" >0.13%</td>\n",
       "                        <td id=\"T_4bf6e38e_6ab8_11ef_bdbb_96000040dfb6row5_col9\" class=\"data row5 col9\" >0.20%</td>\n",
       "                        <td id=\"T_4bf6e38e_6ab8_11ef_bdbb_96000040dfb6row5_col10\" class=\"data row5 col10\" >0.30%</td>\n",
       "                        <td id=\"T_4bf6e38e_6ab8_11ef_bdbb_96000040dfb6row5_col11\" class=\"data row5 col11\" >0.36%</td>\n",
       "                        <td id=\"T_4bf6e38e_6ab8_11ef_bdbb_96000040dfb6row5_col12\" class=\"data row5 col12\" >0.16%</td>\n",
       "                        <td id=\"T_4bf6e38e_6ab8_11ef_bdbb_96000040dfb6row5_col13\" class=\"data row5 col13\" >0.16%</td>\n",
       "                        <td id=\"T_4bf6e38e_6ab8_11ef_bdbb_96000040dfb6row5_col14\" class=\"data row5 col14\" >0.23%</td>\n",
       "                        <td id=\"T_4bf6e38e_6ab8_11ef_bdbb_96000040dfb6row5_col15\" class=\"data row5 col15\" ></td>\n",
       "                        <td id=\"T_4bf6e38e_6ab8_11ef_bdbb_96000040dfb6row5_col16\" class=\"data row5 col16\" ></td>\n",
       "                        <td id=\"T_4bf6e38e_6ab8_11ef_bdbb_96000040dfb6row5_col17\" class=\"data row5 col17\" ></td>\n",
       "                        <td id=\"T_4bf6e38e_6ab8_11ef_bdbb_96000040dfb6row5_col18\" class=\"data row5 col18\" ></td>\n",
       "            </tr>\n",
       "            <tr>\n",
       "                        <th id=\"T_4bf6e38e_6ab8_11ef_bdbb_96000040dfb6level0_row6\" class=\"row_heading level0 row6\" >2017-07</th>\n",
       "                        <td id=\"T_4bf6e38e_6ab8_11ef_bdbb_96000040dfb6row6_col0\" class=\"data row6 col0\" >100.00%</td>\n",
       "                        <td id=\"T_4bf6e38e_6ab8_11ef_bdbb_96000040dfb6row6_col1\" class=\"data row6 col1\" >0.53%</td>\n",
       "                        <td id=\"T_4bf6e38e_6ab8_11ef_bdbb_96000040dfb6row6_col2\" class=\"data row6 col2\" >0.35%</td>\n",
       "                        <td id=\"T_4bf6e38e_6ab8_11ef_bdbb_96000040dfb6row6_col3\" class=\"data row6 col3\" >0.24%</td>\n",
       "                        <td id=\"T_4bf6e38e_6ab8_11ef_bdbb_96000040dfb6row6_col4\" class=\"data row6 col4\" >0.29%</td>\n",
       "                        <td id=\"T_4bf6e38e_6ab8_11ef_bdbb_96000040dfb6row6_col5\" class=\"data row6 col5\" >0.21%</td>\n",
       "                        <td id=\"T_4bf6e38e_6ab8_11ef_bdbb_96000040dfb6row6_col6\" class=\"data row6 col6\" >0.32%</td>\n",
       "                        <td id=\"T_4bf6e38e_6ab8_11ef_bdbb_96000040dfb6row6_col7\" class=\"data row6 col7\" >0.11%</td>\n",
       "                        <td id=\"T_4bf6e38e_6ab8_11ef_bdbb_96000040dfb6row6_col8\" class=\"data row6 col8\" >0.19%</td>\n",
       "                        <td id=\"T_4bf6e38e_6ab8_11ef_bdbb_96000040dfb6row6_col9\" class=\"data row6 col9\" >0.27%</td>\n",
       "                        <td id=\"T_4bf6e38e_6ab8_11ef_bdbb_96000040dfb6row6_col10\" class=\"data row6 col10\" >0.21%</td>\n",
       "                        <td id=\"T_4bf6e38e_6ab8_11ef_bdbb_96000040dfb6row6_col11\" class=\"data row6 col11\" >0.29%</td>\n",
       "                        <td id=\"T_4bf6e38e_6ab8_11ef_bdbb_96000040dfb6row6_col12\" class=\"data row6 col12\" >0.13%</td>\n",
       "                        <td id=\"T_4bf6e38e_6ab8_11ef_bdbb_96000040dfb6row6_col13\" class=\"data row6 col13\" >0.24%</td>\n",
       "                        <td id=\"T_4bf6e38e_6ab8_11ef_bdbb_96000040dfb6row6_col14\" class=\"data row6 col14\" ></td>\n",
       "                        <td id=\"T_4bf6e38e_6ab8_11ef_bdbb_96000040dfb6row6_col15\" class=\"data row6 col15\" ></td>\n",
       "                        <td id=\"T_4bf6e38e_6ab8_11ef_bdbb_96000040dfb6row6_col16\" class=\"data row6 col16\" ></td>\n",
       "                        <td id=\"T_4bf6e38e_6ab8_11ef_bdbb_96000040dfb6row6_col17\" class=\"data row6 col17\" ></td>\n",
       "                        <td id=\"T_4bf6e38e_6ab8_11ef_bdbb_96000040dfb6row6_col18\" class=\"data row6 col18\" ></td>\n",
       "            </tr>\n",
       "            <tr>\n",
       "                        <th id=\"T_4bf6e38e_6ab8_11ef_bdbb_96000040dfb6level0_row7\" class=\"row_heading level0 row7\" >2017-08</th>\n",
       "                        <td id=\"T_4bf6e38e_6ab8_11ef_bdbb_96000040dfb6row7_col0\" class=\"data row7 col0\" >100.00%</td>\n",
       "                        <td id=\"T_4bf6e38e_6ab8_11ef_bdbb_96000040dfb6row7_col1\" class=\"data row7 col1\" >0.69%</td>\n",
       "                        <td id=\"T_4bf6e38e_6ab8_11ef_bdbb_96000040dfb6row7_col2\" class=\"data row7 col2\" >0.35%</td>\n",
       "                        <td id=\"T_4bf6e38e_6ab8_11ef_bdbb_96000040dfb6row7_col3\" class=\"data row7 col3\" >0.27%</td>\n",
       "                        <td id=\"T_4bf6e38e_6ab8_11ef_bdbb_96000040dfb6row7_col4\" class=\"data row7 col4\" >0.35%</td>\n",
       "                        <td id=\"T_4bf6e38e_6ab8_11ef_bdbb_96000040dfb6row7_col5\" class=\"data row7 col5\" >0.52%</td>\n",
       "                        <td id=\"T_4bf6e38e_6ab8_11ef_bdbb_96000040dfb6row7_col6\" class=\"data row7 col6\" >0.30%</td>\n",
       "                        <td id=\"T_4bf6e38e_6ab8_11ef_bdbb_96000040dfb6row7_col7\" class=\"data row7 col7\" >0.27%</td>\n",
       "                        <td id=\"T_4bf6e38e_6ab8_11ef_bdbb_96000040dfb6row7_col8\" class=\"data row7 col8\" >0.15%</td>\n",
       "                        <td id=\"T_4bf6e38e_6ab8_11ef_bdbb_96000040dfb6row7_col9\" class=\"data row7 col9\" >0.15%</td>\n",
       "                        <td id=\"T_4bf6e38e_6ab8_11ef_bdbb_96000040dfb6row7_col10\" class=\"data row7 col10\" >0.25%</td>\n",
       "                        <td id=\"T_4bf6e38e_6ab8_11ef_bdbb_96000040dfb6row7_col11\" class=\"data row7 col11\" >0.20%</td>\n",
       "                        <td id=\"T_4bf6e38e_6ab8_11ef_bdbb_96000040dfb6row7_col12\" class=\"data row7 col12\" >0.12%</td>\n",
       "                        <td id=\"T_4bf6e38e_6ab8_11ef_bdbb_96000040dfb6row7_col13\" class=\"data row7 col13\" ></td>\n",
       "                        <td id=\"T_4bf6e38e_6ab8_11ef_bdbb_96000040dfb6row7_col14\" class=\"data row7 col14\" ></td>\n",
       "                        <td id=\"T_4bf6e38e_6ab8_11ef_bdbb_96000040dfb6row7_col15\" class=\"data row7 col15\" ></td>\n",
       "                        <td id=\"T_4bf6e38e_6ab8_11ef_bdbb_96000040dfb6row7_col16\" class=\"data row7 col16\" ></td>\n",
       "                        <td id=\"T_4bf6e38e_6ab8_11ef_bdbb_96000040dfb6row7_col17\" class=\"data row7 col17\" ></td>\n",
       "                        <td id=\"T_4bf6e38e_6ab8_11ef_bdbb_96000040dfb6row7_col18\" class=\"data row7 col18\" ></td>\n",
       "            </tr>\n",
       "            <tr>\n",
       "                        <th id=\"T_4bf6e38e_6ab8_11ef_bdbb_96000040dfb6level0_row8\" class=\"row_heading level0 row8\" >2017-09</th>\n",
       "                        <td id=\"T_4bf6e38e_6ab8_11ef_bdbb_96000040dfb6row8_col0\" class=\"data row8 col0\" >100.00%</td>\n",
       "                        <td id=\"T_4bf6e38e_6ab8_11ef_bdbb_96000040dfb6row8_col1\" class=\"data row8 col1\" >0.70%</td>\n",
       "                        <td id=\"T_4bf6e38e_6ab8_11ef_bdbb_96000040dfb6row8_col2\" class=\"data row8 col2\" >0.55%</td>\n",
       "                        <td id=\"T_4bf6e38e_6ab8_11ef_bdbb_96000040dfb6row8_col3\" class=\"data row8 col3\" >0.27%</td>\n",
       "                        <td id=\"T_4bf6e38e_6ab8_11ef_bdbb_96000040dfb6row8_col4\" class=\"data row8 col4\" >0.45%</td>\n",
       "                        <td id=\"T_4bf6e38e_6ab8_11ef_bdbb_96000040dfb6row8_col5\" class=\"data row8 col5\" >0.22%</td>\n",
       "                        <td id=\"T_4bf6e38e_6ab8_11ef_bdbb_96000040dfb6row8_col6\" class=\"data row8 col6\" >0.22%</td>\n",
       "                        <td id=\"T_4bf6e38e_6ab8_11ef_bdbb_96000040dfb6row8_col7\" class=\"data row8 col7\" >0.25%</td>\n",
       "                        <td id=\"T_4bf6e38e_6ab8_11ef_bdbb_96000040dfb6row8_col8\" class=\"data row8 col8\" >0.27%</td>\n",
       "                        <td id=\"T_4bf6e38e_6ab8_11ef_bdbb_96000040dfb6row8_col9\" class=\"data row8 col9\" >0.17%</td>\n",
       "                        <td id=\"T_4bf6e38e_6ab8_11ef_bdbb_96000040dfb6row8_col10\" class=\"data row8 col10\" >0.25%</td>\n",
       "                        <td id=\"T_4bf6e38e_6ab8_11ef_bdbb_96000040dfb6row8_col11\" class=\"data row8 col11\" >0.07%</td>\n",
       "                        <td id=\"T_4bf6e38e_6ab8_11ef_bdbb_96000040dfb6row8_col12\" class=\"data row8 col12\" ></td>\n",
       "                        <td id=\"T_4bf6e38e_6ab8_11ef_bdbb_96000040dfb6row8_col13\" class=\"data row8 col13\" ></td>\n",
       "                        <td id=\"T_4bf6e38e_6ab8_11ef_bdbb_96000040dfb6row8_col14\" class=\"data row8 col14\" ></td>\n",
       "                        <td id=\"T_4bf6e38e_6ab8_11ef_bdbb_96000040dfb6row8_col15\" class=\"data row8 col15\" ></td>\n",
       "                        <td id=\"T_4bf6e38e_6ab8_11ef_bdbb_96000040dfb6row8_col16\" class=\"data row8 col16\" ></td>\n",
       "                        <td id=\"T_4bf6e38e_6ab8_11ef_bdbb_96000040dfb6row8_col17\" class=\"data row8 col17\" ></td>\n",
       "                        <td id=\"T_4bf6e38e_6ab8_11ef_bdbb_96000040dfb6row8_col18\" class=\"data row8 col18\" ></td>\n",
       "            </tr>\n",
       "            <tr>\n",
       "                        <th id=\"T_4bf6e38e_6ab8_11ef_bdbb_96000040dfb6level0_row9\" class=\"row_heading level0 row9\" >2017-10</th>\n",
       "                        <td id=\"T_4bf6e38e_6ab8_11ef_bdbb_96000040dfb6row9_col0\" class=\"data row9 col0\" >100.00%</td>\n",
       "                        <td id=\"T_4bf6e38e_6ab8_11ef_bdbb_96000040dfb6row9_col1\" class=\"data row9 col1\" >0.72%</td>\n",
       "                        <td id=\"T_4bf6e38e_6ab8_11ef_bdbb_96000040dfb6row9_col2\" class=\"data row9 col2\" >0.25%</td>\n",
       "                        <td id=\"T_4bf6e38e_6ab8_11ef_bdbb_96000040dfb6row9_col3\" class=\"data row9 col3\" >0.09%</td>\n",
       "                        <td id=\"T_4bf6e38e_6ab8_11ef_bdbb_96000040dfb6row9_col4\" class=\"data row9 col4\" >0.23%</td>\n",
       "                        <td id=\"T_4bf6e38e_6ab8_11ef_bdbb_96000040dfb6row9_col5\" class=\"data row9 col5\" >0.21%</td>\n",
       "                        <td id=\"T_4bf6e38e_6ab8_11ef_bdbb_96000040dfb6row9_col6\" class=\"data row9 col6\" >0.21%</td>\n",
       "                        <td id=\"T_4bf6e38e_6ab8_11ef_bdbb_96000040dfb6row9_col7\" class=\"data row9 col7\" >0.37%</td>\n",
       "                        <td id=\"T_4bf6e38e_6ab8_11ef_bdbb_96000040dfb6row9_col8\" class=\"data row9 col8\" >0.28%</td>\n",
       "                        <td id=\"T_4bf6e38e_6ab8_11ef_bdbb_96000040dfb6row9_col9\" class=\"data row9 col9\" >0.18%</td>\n",
       "                        <td id=\"T_4bf6e38e_6ab8_11ef_bdbb_96000040dfb6row9_col10\" class=\"data row9 col10\" >0.21%</td>\n",
       "                        <td id=\"T_4bf6e38e_6ab8_11ef_bdbb_96000040dfb6row9_col11\" class=\"data row9 col11\" ></td>\n",
       "                        <td id=\"T_4bf6e38e_6ab8_11ef_bdbb_96000040dfb6row9_col12\" class=\"data row9 col12\" ></td>\n",
       "                        <td id=\"T_4bf6e38e_6ab8_11ef_bdbb_96000040dfb6row9_col13\" class=\"data row9 col13\" ></td>\n",
       "                        <td id=\"T_4bf6e38e_6ab8_11ef_bdbb_96000040dfb6row9_col14\" class=\"data row9 col14\" ></td>\n",
       "                        <td id=\"T_4bf6e38e_6ab8_11ef_bdbb_96000040dfb6row9_col15\" class=\"data row9 col15\" ></td>\n",
       "                        <td id=\"T_4bf6e38e_6ab8_11ef_bdbb_96000040dfb6row9_col16\" class=\"data row9 col16\" ></td>\n",
       "                        <td id=\"T_4bf6e38e_6ab8_11ef_bdbb_96000040dfb6row9_col17\" class=\"data row9 col17\" ></td>\n",
       "                        <td id=\"T_4bf6e38e_6ab8_11ef_bdbb_96000040dfb6row9_col18\" class=\"data row9 col18\" ></td>\n",
       "            </tr>\n",
       "            <tr>\n",
       "                        <th id=\"T_4bf6e38e_6ab8_11ef_bdbb_96000040dfb6level0_row10\" class=\"row_heading level0 row10\" >2017-11</th>\n",
       "                        <td id=\"T_4bf6e38e_6ab8_11ef_bdbb_96000040dfb6row10_col0\" class=\"data row10 col0\" >100.00%</td>\n",
       "                        <td id=\"T_4bf6e38e_6ab8_11ef_bdbb_96000040dfb6row10_col1\" class=\"data row10 col1\" >0.57%</td>\n",
       "                        <td id=\"T_4bf6e38e_6ab8_11ef_bdbb_96000040dfb6row10_col2\" class=\"data row10 col2\" >0.37%</td>\n",
       "                        <td id=\"T_4bf6e38e_6ab8_11ef_bdbb_96000040dfb6row10_col3\" class=\"data row10 col3\" >0.17%</td>\n",
       "                        <td id=\"T_4bf6e38e_6ab8_11ef_bdbb_96000040dfb6row10_col4\" class=\"data row10 col4\" >0.17%</td>\n",
       "                        <td id=\"T_4bf6e38e_6ab8_11ef_bdbb_96000040dfb6row10_col5\" class=\"data row10 col5\" >0.18%</td>\n",
       "                        <td id=\"T_4bf6e38e_6ab8_11ef_bdbb_96000040dfb6row10_col6\" class=\"data row10 col6\" >0.11%</td>\n",
       "                        <td id=\"T_4bf6e38e_6ab8_11ef_bdbb_96000040dfb6row10_col7\" class=\"data row10 col7\" >0.18%</td>\n",
       "                        <td id=\"T_4bf6e38e_6ab8_11ef_bdbb_96000040dfb6row10_col8\" class=\"data row10 col8\" >0.13%</td>\n",
       "                        <td id=\"T_4bf6e38e_6ab8_11ef_bdbb_96000040dfb6row10_col9\" class=\"data row10 col9\" >0.06%</td>\n",
       "                        <td id=\"T_4bf6e38e_6ab8_11ef_bdbb_96000040dfb6row10_col10\" class=\"data row10 col10\" ></td>\n",
       "                        <td id=\"T_4bf6e38e_6ab8_11ef_bdbb_96000040dfb6row10_col11\" class=\"data row10 col11\" ></td>\n",
       "                        <td id=\"T_4bf6e38e_6ab8_11ef_bdbb_96000040dfb6row10_col12\" class=\"data row10 col12\" ></td>\n",
       "                        <td id=\"T_4bf6e38e_6ab8_11ef_bdbb_96000040dfb6row10_col13\" class=\"data row10 col13\" ></td>\n",
       "                        <td id=\"T_4bf6e38e_6ab8_11ef_bdbb_96000040dfb6row10_col14\" class=\"data row10 col14\" ></td>\n",
       "                        <td id=\"T_4bf6e38e_6ab8_11ef_bdbb_96000040dfb6row10_col15\" class=\"data row10 col15\" ></td>\n",
       "                        <td id=\"T_4bf6e38e_6ab8_11ef_bdbb_96000040dfb6row10_col16\" class=\"data row10 col16\" ></td>\n",
       "                        <td id=\"T_4bf6e38e_6ab8_11ef_bdbb_96000040dfb6row10_col17\" class=\"data row10 col17\" ></td>\n",
       "                        <td id=\"T_4bf6e38e_6ab8_11ef_bdbb_96000040dfb6row10_col18\" class=\"data row10 col18\" ></td>\n",
       "            </tr>\n",
       "            <tr>\n",
       "                        <th id=\"T_4bf6e38e_6ab8_11ef_bdbb_96000040dfb6level0_row11\" class=\"row_heading level0 row11\" >2017-12</th>\n",
       "                        <td id=\"T_4bf6e38e_6ab8_11ef_bdbb_96000040dfb6row11_col0\" class=\"data row11 col0\" >100.00%</td>\n",
       "                        <td id=\"T_4bf6e38e_6ab8_11ef_bdbb_96000040dfb6row11_col1\" class=\"data row11 col1\" >0.21%</td>\n",
       "                        <td id=\"T_4bf6e38e_6ab8_11ef_bdbb_96000040dfb6row11_col2\" class=\"data row11 col2\" >0.28%</td>\n",
       "                        <td id=\"T_4bf6e38e_6ab8_11ef_bdbb_96000040dfb6row11_col3\" class=\"data row11 col3\" >0.34%</td>\n",
       "                        <td id=\"T_4bf6e38e_6ab8_11ef_bdbb_96000040dfb6row11_col4\" class=\"data row11 col4\" >0.26%</td>\n",
       "                        <td id=\"T_4bf6e38e_6ab8_11ef_bdbb_96000040dfb6row11_col5\" class=\"data row11 col5\" >0.21%</td>\n",
       "                        <td id=\"T_4bf6e38e_6ab8_11ef_bdbb_96000040dfb6row11_col6\" class=\"data row11 col6\" >0.17%</td>\n",
       "                        <td id=\"T_4bf6e38e_6ab8_11ef_bdbb_96000040dfb6row11_col7\" class=\"data row11 col7\" >0.02%</td>\n",
       "                        <td id=\"T_4bf6e38e_6ab8_11ef_bdbb_96000040dfb6row11_col8\" class=\"data row11 col8\" >0.19%</td>\n",
       "                        <td id=\"T_4bf6e38e_6ab8_11ef_bdbb_96000040dfb6row11_col9\" class=\"data row11 col9\" ></td>\n",
       "                        <td id=\"T_4bf6e38e_6ab8_11ef_bdbb_96000040dfb6row11_col10\" class=\"data row11 col10\" ></td>\n",
       "                        <td id=\"T_4bf6e38e_6ab8_11ef_bdbb_96000040dfb6row11_col11\" class=\"data row11 col11\" ></td>\n",
       "                        <td id=\"T_4bf6e38e_6ab8_11ef_bdbb_96000040dfb6row11_col12\" class=\"data row11 col12\" ></td>\n",
       "                        <td id=\"T_4bf6e38e_6ab8_11ef_bdbb_96000040dfb6row11_col13\" class=\"data row11 col13\" ></td>\n",
       "                        <td id=\"T_4bf6e38e_6ab8_11ef_bdbb_96000040dfb6row11_col14\" class=\"data row11 col14\" ></td>\n",
       "                        <td id=\"T_4bf6e38e_6ab8_11ef_bdbb_96000040dfb6row11_col15\" class=\"data row11 col15\" ></td>\n",
       "                        <td id=\"T_4bf6e38e_6ab8_11ef_bdbb_96000040dfb6row11_col16\" class=\"data row11 col16\" ></td>\n",
       "                        <td id=\"T_4bf6e38e_6ab8_11ef_bdbb_96000040dfb6row11_col17\" class=\"data row11 col17\" ></td>\n",
       "                        <td id=\"T_4bf6e38e_6ab8_11ef_bdbb_96000040dfb6row11_col18\" class=\"data row11 col18\" ></td>\n",
       "            </tr>\n",
       "    </tbody></table>"
      ],
      "text/plain": [
       "<pandas.io.formats.style.Styler at 0x7fa96b46fdd8>"
      ]
     },
     "execution_count": 61,
     "metadata": {},
     "output_type": "execute_result"
    }
   ],
   "source": [
    "# зададим настройки отображения\n",
    "table_style = (retention\n",
    "            .style\n",
    "            .set_caption('User retention by cohort')  # добавляем подпись\n",
    "            .background_gradient(cmap='viridis')  # раскрашиваем ячейки по столбцам\n",
    "            .highlight_null('white')  # делаем белый фон для значений NaN\n",
    "            .format(\"{:.2%}\", na_rep=\"\"))  # числа форматируем как проценты, NaN заменяем на пустоту\n",
    "table_style"
   ]
  },
  {
   "cell_type": "markdown",
   "metadata": {},
   "source": [
    "По итогам проведенного когортного анализа показатель retention составляет менее 1% для каждой из 12 когорт. \n",
    "\n",
    "Во всех проанализированных когортах нет четкого тренда на последовательное убывание retention."
   ]
  },
  {
   "cell_type": "markdown",
   "metadata": {},
   "source": [
    "#### Построить RFM-сегментацию пользователей, чтобы качественно оценить аудиторию. \n",
    "\n",
    "Для кластеризации будут использованы следующие метрики: \n",
    "- R - время от последней покупки пользователя до текущей даты, \n",
    "- F - суммарное количество покупок у пользователя за всё время, \n",
    "- M - сумма покупок за всё время."
   ]
  },
  {
   "cell_type": "code",
   "execution_count": 62,
   "metadata": {},
   "outputs": [],
   "source": [
    "# объединим таблицы с данными о покупателях и заказах и создадим копию датафрейма чтобы работать с ней в рамках этой задачи\n",
    "cust_n_order_data = customers.merge(orders, how = 'inner', on = 'customer_id') \n",
    "cust_n_order_data_4 = copy.deepcopy(cust_n_order_data)"
   ]
  },
  {
   "cell_type": "code",
   "execution_count": 63,
   "metadata": {},
   "outputs": [],
   "source": [
    "# приведем столбец с датой заказа к формату месяцев\n",
    "cust_n_order_data_4['order_purchase_timestamp'] = cust_n_order_data_4['order_purchase_timestamp'].dt.to_period('D')"
   ]
  },
  {
   "cell_type": "code",
   "execution_count": 64,
   "metadata": {},
   "outputs": [],
   "source": [
    "#теперь добавляем столбец с датой посдеднего заказа для каждого пользователя \n",
    "cust_n_order_data_4['last_purchase'] = cust_n_order_data_4 .groupby('customer_unique_id')['order_purchase_timestamp'].transform('max')\n",
    "#добавляем столбец с условной \"датой проведения анализа\" (к максимальной дате из всех заказов прибавляем день)\n",
    "cust_n_order_data_4['now'] = (cust_n_order_data_4['order_purchase_timestamp'].max()) + timedelta(days=1)\n",
    "#добавляем столбец с разницей между крайним заказом и текущей датой (R)\n",
    "cust_n_order_data_4['R'] = (cust_n_order_data_4['now'].dt.year - cust_n_order_data_4['last_purchase'].dt.year) * 365 + (cust_n_order_data_4['now'].dt.month - cust_n_order_data_4['last_purchase'].dt.month) * 30 + (cust_n_order_data_4['now'].dt.day - cust_n_order_data_4['last_purchase'].dt.day)"
   ]
  },
  {
   "cell_type": "code",
   "execution_count": 65,
   "metadata": {},
   "outputs": [],
   "source": [
    "#считаем сумму заказов для каждого покупателя за все время (F)\n",
    "sum_of_orders = cust_n_order_data_4.groupby('customer_unique_id', as_index = False).agg({'order_id':'count'}).rename(columns = {'order_id':'F'})"
   ]
  },
  {
   "cell_type": "code",
   "execution_count": 66,
   "metadata": {},
   "outputs": [],
   "source": [
    "#добавляем столбец с метрикой к основному датафрейму\n",
    "df_RFM = cust_n_order_data_4.merge(sum_of_orders, how = 'left', on = 'customer_unique_id')"
   ]
  },
  {
   "cell_type": "code",
   "execution_count": 67,
   "metadata": {},
   "outputs": [],
   "source": [
    "#считаем суммарную стоимость всех заказов для каждого пользователя (M) \n",
    "# создадим копию датафрейма чтобы работать с ней в рамках этой задачи\n",
    "items_copy = copy.deepcopy(items)\n",
    "monetary = items_copy.groupby('order_id', as_index = False).agg({'price':'sum'}).rename(columns = {'price': 'M'})"
   ]
  },
  {
   "cell_type": "code",
   "execution_count": 68,
   "metadata": {},
   "outputs": [],
   "source": [
    "#добавляем столбец с метрикой к основному датафрейму\n",
    "df_RFM = df_RFM.merge(monetary, how = 'left', on = 'order_id')"
   ]
  },
  {
   "cell_type": "code",
   "execution_count": 69,
   "metadata": {},
   "outputs": [],
   "source": [
    "#переходим к формированию датафрейма, который будет нужен нам для сегментации\n",
    "#сначала отметем все, что не подходит под ранее заданные критерии \"покупки\"\n",
    "df_RFM = df_RFM.query(\"order_status == 'delivered' and order_approved_at != 'NaN'\")"
   ]
  },
  {
   "cell_type": "code",
   "execution_count": 70,
   "metadata": {},
   "outputs": [],
   "source": [
    "#оставляем в датафрейме только те данные, которые потребуются для анализа\n",
    "RFM = df_RFM[['customer_unique_id', 'R', 'F', 'M']]"
   ]
  },
  {
   "cell_type": "code",
   "execution_count": 71,
   "metadata": {},
   "outputs": [],
   "source": [
    "#оставляем только самые 'свежие' заказы, для каждого пользователя, чтобы более ранние заказы не смазывали картину\n",
    "RFM = RFM.loc[RFM.groupby('customer_unique_id')['R'].idxmin()]"
   ]
  },
  {
   "cell_type": "code",
   "execution_count": 72,
   "metadata": {},
   "outputs": [
    {
     "data": {
      "text/html": [
       "<div>\n",
       "<style scoped>\n",
       "    .dataframe tbody tr th:only-of-type {\n",
       "        vertical-align: middle;\n",
       "    }\n",
       "\n",
       "    .dataframe tbody tr th {\n",
       "        vertical-align: top;\n",
       "    }\n",
       "\n",
       "    .dataframe thead th {\n",
       "        text-align: right;\n",
       "    }\n",
       "</style>\n",
       "<table border=\"1\" class=\"dataframe\">\n",
       "  <thead>\n",
       "    <tr style=\"text-align: right;\">\n",
       "      <th></th>\n",
       "      <th>R</th>\n",
       "      <th>F</th>\n",
       "      <th>M</th>\n",
       "    </tr>\n",
       "  </thead>\n",
       "  <tbody>\n",
       "    <tr>\n",
       "      <th>0.25</th>\n",
       "      <td>161.0</td>\n",
       "      <td>1.0</td>\n",
       "      <td>45.9</td>\n",
       "    </tr>\n",
       "    <tr>\n",
       "      <th>0.50</th>\n",
       "      <td>265.0</td>\n",
       "      <td>1.0</td>\n",
       "      <td>86.9</td>\n",
       "    </tr>\n",
       "    <tr>\n",
       "      <th>0.75</th>\n",
       "      <td>396.0</td>\n",
       "      <td>1.0</td>\n",
       "      <td>149.9</td>\n",
       "    </tr>\n",
       "  </tbody>\n",
       "</table>\n",
       "</div>"
      ],
      "text/plain": [
       "          R    F      M\n",
       "0.25  161.0  1.0   45.9\n",
       "0.50  265.0  1.0   86.9\n",
       "0.75  396.0  1.0  149.9"
      ]
     },
     "execution_count": 72,
     "metadata": {},
     "output_type": "execute_result"
    }
   ],
   "source": [
    "#считаем квантили, чтобы опереться на них при определении границ групп\n",
    "RFM.quantile([0.25, 0.5, 0.75])"
   ]
  },
  {
   "cell_type": "markdown",
   "metadata": {},
   "source": [
    "По метрике R округлим до месяцев полученные с помощью квантилей границы интервалов и установим следующие:\n",
    "\n",
    "- 4 балла: 0 - 180 дней (покупки были за последние пол года)\n",
    "- 3 балла: 181 - 270 (покупки были 6-9 месяцев назад)\n",
    "- 2 балла: 271 - 365 (покупки были 9-12 месяцев назад)\n",
    "- 1 балл: 366 - ... (покупки более года назад)"
   ]
  },
  {
   "cell_type": "code",
   "execution_count": 73,
   "metadata": {},
   "outputs": [
    {
     "data": {
      "text/plain": [
       "count    93345.000000\n",
       "mean         1.035621\n",
       "std          0.216879\n",
       "min          1.000000\n",
       "25%          1.000000\n",
       "50%          1.000000\n",
       "75%          1.000000\n",
       "max         17.000000\n",
       "Name: F, dtype: float64"
      ]
     },
     "execution_count": 73,
     "metadata": {},
     "output_type": "execute_result"
    }
   ],
   "source": [
    "RFM.F.describe()"
   ]
  },
  {
   "cell_type": "markdown",
   "metadata": {},
   "source": [
    "По метрике F у нас интервал от 1 до 17 заказов, причем больше одного только примерно у трех тысяч пользователей, поэтому:\n",
    "\n",
    "- 1 балл - покупатели с 1 покупкой\n",
    "- 2 балла - покупатели с 2-5 покупками\n",
    "- 3 балла - покупатели с 6-10 покупками\n",
    "- 4 балла - покупатели с более чем 10 покупками"
   ]
  },
  {
   "cell_type": "code",
   "execution_count": 74,
   "metadata": {},
   "outputs": [
    {
     "data": {
      "text/plain": [
       "count    93345.000000\n",
       "mean       137.419858\n",
       "std        210.452572\n",
       "min          0.850000\n",
       "25%         45.900000\n",
       "50%         86.900000\n",
       "75%        149.900000\n",
       "max      13440.000000\n",
       "Name: M, dtype: float64"
      ]
     },
     "execution_count": 74,
     "metadata": {},
     "output_type": "execute_result"
    }
   ],
   "source": [
    "RFM.M.describe()"
   ]
  },
  {
   "cell_type": "code",
   "execution_count": 75,
   "metadata": {},
   "outputs": [
    {
     "data": {
      "text/plain": [
       "0.25     45.90\n",
       "0.30     50.00\n",
       "0.40     67.90\n",
       "0.50     86.90\n",
       "0.55     98.00\n",
       "0.60    107.00\n",
       "0.70    133.00\n",
       "0.75    149.90\n",
       "0.80    175.26\n",
       "0.85    204.75\n",
       "0.90    269.70\n",
       "0.95    399.00\n",
       "0.96    479.00\n",
       "0.97    579.00\n",
       "0.98    699.99\n",
       "0.99    998.00\n",
       "Name: M, dtype: float64"
      ]
     },
     "execution_count": 75,
     "metadata": {},
     "output_type": "execute_result"
    }
   ],
   "source": [
    "#считаем больше квантелей, чтобы опереться на них при определении границ групп\n",
    "RFM.M.quantile([0.25, 0.3, 0.4, 0.5, 0.55, 0.6, 0.7, 0.75, 0.8, 0.85, 0.9, 0.95, 0.96, 0.97, 0.98, 0.99])"
   ]
  },
  {
   "cell_type": "markdown",
   "metadata": {},
   "source": [
    "По метрике M учтем как распределение квантилей, так и максимальную сумму метрики:\n",
    "\n",
    "- 4 балла: 10001 - ... долларов\n",
    "- 3 балла: 1001-10000 долларов\n",
    "- 2 балла: 701-1000 долларов\n",
    "- 1 балл: 1-700 долларов"
   ]
  },
  {
   "cell_type": "code",
   "execution_count": 76,
   "metadata": {},
   "outputs": [],
   "source": [
    "#определяем верхний порог R\n",
    "RFM['R'].max()\n",
    "#задаем интервалы R\n",
    "bins = pd.to_timedelta(['0', '180', '270', '365', '763'])\n",
    "#создаем столбец с присвоенными по метрике R баллами\n",
    "RFM['R_score'] = pd.cut(RFM['R'], bins = bins, labels = ['4', '3', '2', '1'])"
   ]
  },
  {
   "cell_type": "code",
   "execution_count": 77,
   "metadata": {},
   "outputs": [],
   "source": [
    "#создаем столбец с присвоенными по метрике F баллами\n",
    "RFM['F_score'] = pd.cut(RFM['F'], bins = [0, 1, 5, 10, 17], labels = ['1', '2', '3', '4'])"
   ]
  },
  {
   "cell_type": "code",
   "execution_count": 78,
   "metadata": {},
   "outputs": [],
   "source": [
    "#создаем столбец с присвоенными по метрике M баллами\n",
    "RFM['M_score'] = pd.cut(RFM['M'], bins = [0, 700, 1000, 10000, 13440], labels = ['1', '2', '3', '4'])"
   ]
  },
  {
   "cell_type": "code",
   "execution_count": 79,
   "metadata": {},
   "outputs": [],
   "source": [
    "#создаем столбец с комбинацией баллов RFM\n",
    "RFM['RFM'] = RFM['R_score'].astype(str) + RFM['F_score'].astype(str) + RFM['M_score'].astype(str)"
   ]
  },
  {
   "cell_type": "code",
   "execution_count": 80,
   "metadata": {},
   "outputs": [
    {
     "data": {
      "text/plain": [
       "count    93345.000000\n",
       "mean       285.581831\n",
       "std        152.687586\n",
       "min          2.000000\n",
       "25%        161.000000\n",
       "50%        265.000000\n",
       "75%        396.000000\n",
       "max        763.000000\n",
       "Name: R, dtype: float64"
      ]
     },
     "execution_count": 80,
     "metadata": {},
     "output_type": "execute_result"
    }
   ],
   "source": [
    "RFM.R.describe()"
   ]
  },
  {
   "cell_type": "code",
   "execution_count": 81,
   "metadata": {},
   "outputs": [
    {
     "data": {
      "text/html": [
       "<div>\n",
       "<style scoped>\n",
       "    .dataframe tbody tr th:only-of-type {\n",
       "        vertical-align: middle;\n",
       "    }\n",
       "\n",
       "    .dataframe tbody tr th {\n",
       "        vertical-align: top;\n",
       "    }\n",
       "\n",
       "    .dataframe thead th {\n",
       "        text-align: right;\n",
       "    }\n",
       "</style>\n",
       "<table border=\"1\" class=\"dataframe\">\n",
       "  <thead>\n",
       "    <tr style=\"text-align: right;\">\n",
       "      <th></th>\n",
       "      <th>customer_unique_id</th>\n",
       "      <th>R</th>\n",
       "      <th>F</th>\n",
       "      <th>M</th>\n",
       "      <th>R_score</th>\n",
       "      <th>F_score</th>\n",
       "      <th>M_score</th>\n",
       "      <th>RFM</th>\n",
       "    </tr>\n",
       "  </thead>\n",
       "  <tbody>\n",
       "    <tr>\n",
       "      <th>64012</th>\n",
       "      <td>0000366f3b9a7992bf8c76cfdf3221e2</td>\n",
       "      <td>158</td>\n",
       "      <td>1</td>\n",
       "      <td>129.90</td>\n",
       "      <td>4</td>\n",
       "      <td>1</td>\n",
       "      <td>1</td>\n",
       "      <td>411</td>\n",
       "    </tr>\n",
       "    <tr>\n",
       "      <th>24570</th>\n",
       "      <td>0000b849f77a49e4a4ce2b2a4ca5be3f</td>\n",
       "      <td>161</td>\n",
       "      <td>1</td>\n",
       "      <td>18.90</td>\n",
       "      <td>4</td>\n",
       "      <td>1</td>\n",
       "      <td>1</td>\n",
       "      <td>411</td>\n",
       "    </tr>\n",
       "    <tr>\n",
       "      <th>40832</th>\n",
       "      <td>0000f46a3911fa3c0805444483337064</td>\n",
       "      <td>583</td>\n",
       "      <td>1</td>\n",
       "      <td>69.00</td>\n",
       "      <td>1</td>\n",
       "      <td>1</td>\n",
       "      <td>1</td>\n",
       "      <td>111</td>\n",
       "    </tr>\n",
       "    <tr>\n",
       "      <th>57118</th>\n",
       "      <td>0000f6ccb0745a6a4b88665a16c9f078</td>\n",
       "      <td>371</td>\n",
       "      <td>1</td>\n",
       "      <td>25.99</td>\n",
       "      <td>1</td>\n",
       "      <td>1</td>\n",
       "      <td>1</td>\n",
       "      <td>111</td>\n",
       "    </tr>\n",
       "    <tr>\n",
       "      <th>81150</th>\n",
       "      <td>0004aac84e0df4da2b147fca70cf8255</td>\n",
       "      <td>339</td>\n",
       "      <td>1</td>\n",
       "      <td>180.00</td>\n",
       "      <td>2</td>\n",
       "      <td>1</td>\n",
       "      <td>1</td>\n",
       "      <td>211</td>\n",
       "    </tr>\n",
       "    <tr>\n",
       "      <th>...</th>\n",
       "      <td>...</td>\n",
       "      <td>...</td>\n",
       "      <td>...</td>\n",
       "      <td>...</td>\n",
       "      <td>...</td>\n",
       "      <td>...</td>\n",
       "      <td>...</td>\n",
       "      <td>...</td>\n",
       "    </tr>\n",
       "    <tr>\n",
       "      <th>89147</th>\n",
       "      <td>fffcf5a5ff07b0908bd4e2dbc735a684</td>\n",
       "      <td>495</td>\n",
       "      <td>1</td>\n",
       "      <td>1570.00</td>\n",
       "      <td>1</td>\n",
       "      <td>1</td>\n",
       "      <td>3</td>\n",
       "      <td>113</td>\n",
       "    </tr>\n",
       "    <tr>\n",
       "      <th>9810</th>\n",
       "      <td>fffea47cd6d3cc0a88bd621562a9d061</td>\n",
       "      <td>313</td>\n",
       "      <td>1</td>\n",
       "      <td>64.89</td>\n",
       "      <td>2</td>\n",
       "      <td>1</td>\n",
       "      <td>1</td>\n",
       "      <td>211</td>\n",
       "    </tr>\n",
       "    <tr>\n",
       "      <th>69017</th>\n",
       "      <td>ffff371b4d645b6ecea244b27531430a</td>\n",
       "      <td>616</td>\n",
       "      <td>1</td>\n",
       "      <td>89.90</td>\n",
       "      <td>1</td>\n",
       "      <td>1</td>\n",
       "      <td>1</td>\n",
       "      <td>111</td>\n",
       "    </tr>\n",
       "    <tr>\n",
       "      <th>94891</th>\n",
       "      <td>ffff5962728ec6157033ef9805bacc48</td>\n",
       "      <td>166</td>\n",
       "      <td>1</td>\n",
       "      <td>115.00</td>\n",
       "      <td>4</td>\n",
       "      <td>1</td>\n",
       "      <td>1</td>\n",
       "      <td>411</td>\n",
       "    </tr>\n",
       "    <tr>\n",
       "      <th>83624</th>\n",
       "      <td>ffffd2657e2aad2907e67c3e9daecbeb</td>\n",
       "      <td>531</td>\n",
       "      <td>1</td>\n",
       "      <td>56.99</td>\n",
       "      <td>1</td>\n",
       "      <td>1</td>\n",
       "      <td>1</td>\n",
       "      <td>111</td>\n",
       "    </tr>\n",
       "  </tbody>\n",
       "</table>\n",
       "<p>93345 rows × 8 columns</p>\n",
       "</div>"
      ],
      "text/plain": [
       "                     customer_unique_id    R  F        M R_score F_score  \\\n",
       "64012  0000366f3b9a7992bf8c76cfdf3221e2  158  1   129.90       4       1   \n",
       "24570  0000b849f77a49e4a4ce2b2a4ca5be3f  161  1    18.90       4       1   \n",
       "40832  0000f46a3911fa3c0805444483337064  583  1    69.00       1       1   \n",
       "57118  0000f6ccb0745a6a4b88665a16c9f078  371  1    25.99       1       1   \n",
       "81150  0004aac84e0df4da2b147fca70cf8255  339  1   180.00       2       1   \n",
       "...                                 ...  ... ..      ...     ...     ...   \n",
       "89147  fffcf5a5ff07b0908bd4e2dbc735a684  495  1  1570.00       1       1   \n",
       "9810   fffea47cd6d3cc0a88bd621562a9d061  313  1    64.89       2       1   \n",
       "69017  ffff371b4d645b6ecea244b27531430a  616  1    89.90       1       1   \n",
       "94891  ffff5962728ec6157033ef9805bacc48  166  1   115.00       4       1   \n",
       "83624  ffffd2657e2aad2907e67c3e9daecbeb  531  1    56.99       1       1   \n",
       "\n",
       "      M_score  RFM  \n",
       "64012       1  411  \n",
       "24570       1  411  \n",
       "40832       1  111  \n",
       "57118       1  111  \n",
       "81150       1  211  \n",
       "...       ...  ...  \n",
       "89147       3  113  \n",
       "9810        1  211  \n",
       "69017       1  111  \n",
       "94891       1  411  \n",
       "83624       1  111  \n",
       "\n",
       "[93345 rows x 8 columns]"
      ]
     },
     "execution_count": 81,
     "metadata": {},
     "output_type": "execute_result"
    }
   ],
   "source": [
    "RFM"
   ]
  },
  {
   "cell_type": "code",
   "execution_count": 82,
   "metadata": {},
   "outputs": [
    {
     "data": {
      "text/plain": [
       "array(['411', '111', '211', '311', '421', '221', '412', '313', '321',\n",
       "       '312', '213', '413', '121', '113', '423', '112', '422', '212',\n",
       "       '123', '114', '222', '131', '331', '322', '122', '431', '323',\n",
       "       '223', '441', '231'], dtype=object)"
      ]
     },
     "execution_count": 82,
     "metadata": {},
     "output_type": "execute_result"
    }
   ],
   "source": [
    "#посмотрим, какие комбинации у нас получились\n",
    "RFM.RFM.unique()"
   ]
  },
  {
   "cell_type": "code",
   "execution_count": 83,
   "metadata": {},
   "outputs": [
    {
     "data": {
      "text/html": [
       "<div>\n",
       "<style scoped>\n",
       "    .dataframe tbody tr th:only-of-type {\n",
       "        vertical-align: middle;\n",
       "    }\n",
       "\n",
       "    .dataframe tbody tr th {\n",
       "        vertical-align: top;\n",
       "    }\n",
       "\n",
       "    .dataframe thead th {\n",
       "        text-align: right;\n",
       "    }\n",
       "</style>\n",
       "<table border=\"1\" class=\"dataframe\">\n",
       "  <thead>\n",
       "    <tr style=\"text-align: right;\">\n",
       "      <th></th>\n",
       "      <th>customer_unique_id</th>\n",
       "      <th>R</th>\n",
       "      <th>F</th>\n",
       "      <th>M</th>\n",
       "      <th>R_score</th>\n",
       "      <th>F_score</th>\n",
       "      <th>M_score</th>\n",
       "      <th>RFM</th>\n",
       "      <th>Segment</th>\n",
       "    </tr>\n",
       "  </thead>\n",
       "  <tbody>\n",
       "    <tr>\n",
       "      <th>64012</th>\n",
       "      <td>0000366f3b9a7992bf8c76cfdf3221e2</td>\n",
       "      <td>158</td>\n",
       "      <td>1</td>\n",
       "      <td>129.90</td>\n",
       "      <td>4</td>\n",
       "      <td>1</td>\n",
       "      <td>1</td>\n",
       "      <td>411</td>\n",
       "      <td>разовая покупка, низкий чек</td>\n",
       "    </tr>\n",
       "    <tr>\n",
       "      <th>24570</th>\n",
       "      <td>0000b849f77a49e4a4ce2b2a4ca5be3f</td>\n",
       "      <td>161</td>\n",
       "      <td>1</td>\n",
       "      <td>18.90</td>\n",
       "      <td>4</td>\n",
       "      <td>1</td>\n",
       "      <td>1</td>\n",
       "      <td>411</td>\n",
       "      <td>разовая покупка, низкий чек</td>\n",
       "    </tr>\n",
       "    <tr>\n",
       "      <th>40832</th>\n",
       "      <td>0000f46a3911fa3c0805444483337064</td>\n",
       "      <td>583</td>\n",
       "      <td>1</td>\n",
       "      <td>69.00</td>\n",
       "      <td>1</td>\n",
       "      <td>1</td>\n",
       "      <td>1</td>\n",
       "      <td>111</td>\n",
       "      <td>разовая покупка, низкий чек</td>\n",
       "    </tr>\n",
       "    <tr>\n",
       "      <th>57118</th>\n",
       "      <td>0000f6ccb0745a6a4b88665a16c9f078</td>\n",
       "      <td>371</td>\n",
       "      <td>1</td>\n",
       "      <td>25.99</td>\n",
       "      <td>1</td>\n",
       "      <td>1</td>\n",
       "      <td>1</td>\n",
       "      <td>111</td>\n",
       "      <td>разовая покупка, низкий чек</td>\n",
       "    </tr>\n",
       "    <tr>\n",
       "      <th>81150</th>\n",
       "      <td>0004aac84e0df4da2b147fca70cf8255</td>\n",
       "      <td>339</td>\n",
       "      <td>1</td>\n",
       "      <td>180.00</td>\n",
       "      <td>2</td>\n",
       "      <td>1</td>\n",
       "      <td>1</td>\n",
       "      <td>211</td>\n",
       "      <td>разовая покупка, низкий чек</td>\n",
       "    </tr>\n",
       "    <tr>\n",
       "      <th>...</th>\n",
       "      <td>...</td>\n",
       "      <td>...</td>\n",
       "      <td>...</td>\n",
       "      <td>...</td>\n",
       "      <td>...</td>\n",
       "      <td>...</td>\n",
       "      <td>...</td>\n",
       "      <td>...</td>\n",
       "      <td>...</td>\n",
       "    </tr>\n",
       "    <tr>\n",
       "      <th>89147</th>\n",
       "      <td>fffcf5a5ff07b0908bd4e2dbc735a684</td>\n",
       "      <td>495</td>\n",
       "      <td>1</td>\n",
       "      <td>1570.00</td>\n",
       "      <td>1</td>\n",
       "      <td>1</td>\n",
       "      <td>3</td>\n",
       "      <td>113</td>\n",
       "      <td>разовая покупка, средний чек</td>\n",
       "    </tr>\n",
       "    <tr>\n",
       "      <th>9810</th>\n",
       "      <td>fffea47cd6d3cc0a88bd621562a9d061</td>\n",
       "      <td>313</td>\n",
       "      <td>1</td>\n",
       "      <td>64.89</td>\n",
       "      <td>2</td>\n",
       "      <td>1</td>\n",
       "      <td>1</td>\n",
       "      <td>211</td>\n",
       "      <td>разовая покупка, низкий чек</td>\n",
       "    </tr>\n",
       "    <tr>\n",
       "      <th>69017</th>\n",
       "      <td>ffff371b4d645b6ecea244b27531430a</td>\n",
       "      <td>616</td>\n",
       "      <td>1</td>\n",
       "      <td>89.90</td>\n",
       "      <td>1</td>\n",
       "      <td>1</td>\n",
       "      <td>1</td>\n",
       "      <td>111</td>\n",
       "      <td>разовая покупка, низкий чек</td>\n",
       "    </tr>\n",
       "    <tr>\n",
       "      <th>94891</th>\n",
       "      <td>ffff5962728ec6157033ef9805bacc48</td>\n",
       "      <td>166</td>\n",
       "      <td>1</td>\n",
       "      <td>115.00</td>\n",
       "      <td>4</td>\n",
       "      <td>1</td>\n",
       "      <td>1</td>\n",
       "      <td>411</td>\n",
       "      <td>разовая покупка, низкий чек</td>\n",
       "    </tr>\n",
       "    <tr>\n",
       "      <th>83624</th>\n",
       "      <td>ffffd2657e2aad2907e67c3e9daecbeb</td>\n",
       "      <td>531</td>\n",
       "      <td>1</td>\n",
       "      <td>56.99</td>\n",
       "      <td>1</td>\n",
       "      <td>1</td>\n",
       "      <td>1</td>\n",
       "      <td>111</td>\n",
       "      <td>разовая покупка, низкий чек</td>\n",
       "    </tr>\n",
       "  </tbody>\n",
       "</table>\n",
       "<p>93345 rows × 9 columns</p>\n",
       "</div>"
      ],
      "text/plain": [
       "                     customer_unique_id    R  F        M R_score F_score  \\\n",
       "64012  0000366f3b9a7992bf8c76cfdf3221e2  158  1   129.90       4       1   \n",
       "24570  0000b849f77a49e4a4ce2b2a4ca5be3f  161  1    18.90       4       1   \n",
       "40832  0000f46a3911fa3c0805444483337064  583  1    69.00       1       1   \n",
       "57118  0000f6ccb0745a6a4b88665a16c9f078  371  1    25.99       1       1   \n",
       "81150  0004aac84e0df4da2b147fca70cf8255  339  1   180.00       2       1   \n",
       "...                                 ...  ... ..      ...     ...     ...   \n",
       "89147  fffcf5a5ff07b0908bd4e2dbc735a684  495  1  1570.00       1       1   \n",
       "9810   fffea47cd6d3cc0a88bd621562a9d061  313  1    64.89       2       1   \n",
       "69017  ffff371b4d645b6ecea244b27531430a  616  1    89.90       1       1   \n",
       "94891  ffff5962728ec6157033ef9805bacc48  166  1   115.00       4       1   \n",
       "83624  ffffd2657e2aad2907e67c3e9daecbeb  531  1    56.99       1       1   \n",
       "\n",
       "      M_score  RFM                       Segment  \n",
       "64012       1  411   разовая покупка, низкий чек  \n",
       "24570       1  411   разовая покупка, низкий чек  \n",
       "40832       1  111   разовая покупка, низкий чек  \n",
       "57118       1  111   разовая покупка, низкий чек  \n",
       "81150       1  211   разовая покупка, низкий чек  \n",
       "...       ...  ...                           ...  \n",
       "89147       3  113  разовая покупка, средний чек  \n",
       "9810        1  211   разовая покупка, низкий чек  \n",
       "69017       1  111   разовая покупка, низкий чек  \n",
       "94891       1  411   разовая покупка, низкий чек  \n",
       "83624       1  111   разовая покупка, низкий чек  \n",
       "\n",
       "[93345 rows x 9 columns]"
      ]
     },
     "execution_count": 83,
     "metadata": {},
     "output_type": "execute_result"
    }
   ],
   "source": [
    "#по аналогии с примером задаем названия для разных комбинаций баллов. Учитываем F и M как более значимые, так как \n",
    "# всего комбинаций баллов - 30\n",
    "segt_map = {\n",
    "    r'11': 'разовая покупка, низкий чек',\n",
    "    r'1[2-3]': 'разовая покупка, средний чек',\n",
    "    r'1[3-4]': 'разовая покупка, высокий чек',\n",
    "    r'21': 'мало покупают, низкий чек',\n",
    "    r'[2-3][2-3]': 'мало покупают, средний чек',\n",
    "    r'2[3-4]': 'мало покупают, высокий чек',\n",
    "    r'31': 'покупают средне, низкий чек',\n",
    "    r'[2-3][2-3]': 'покупают средне, средний чек',\n",
    "    r'3[3-4]': 'покупают средне, высокий чек',\n",
    "    r'41': 'покупают часто, низкий чек',\n",
    "    r'[3-4][2-3]': 'покупают часто, средний чек',\n",
    "    r'4[3-4]': 'покупают часто, высокий чек'\n",
    "}\n",
    "\n",
    "RFM['Segment'] = RFM['F_score'].astype(str) + RFM['M_score'].astype(str)\n",
    "RFM['Segment'] = RFM['Segment'].replace(segt_map, regex=True)\n",
    "RFM"
   ]
  },
  {
   "cell_type": "code",
   "execution_count": 84,
   "metadata": {},
   "outputs": [],
   "source": [
    "for_grafic = RFM.groupby('Segment', as_index = False).agg({'RFM':'count'}).rename(columns = {'RFM':'number_of_clients'})\n",
    "\n",
    "categories = ['покупают часто, высокий чек', 'покупают часто, средний чек', 'покупают часто, низкий чек', 'покупают средне, высокий чек', 'покупают средне, средний чек', 'покупают средне, низкий чек', 'мало покупают, высокий чек', 'мало покупают, средний чек', 'мало покупают, низкий чек', 'разовая покупка, высокий чек', 'разовая покупка, средний чек', 'разовая покупка, низкий чек']\n",
    "for_grafic['Segment'] = pd.Categorical(for_grafic['Segment'], categories=categories, ordered=True)"
   ]
  },
  {
   "cell_type": "code",
   "execution_count": 85,
   "metadata": {},
   "outputs": [
    {
     "data": {
      "text/plain": [
       "(array([ 0,  1,  2,  3,  4,  5,  6,  7,  8,  9, 10, 11]),\n",
       " <a list of 12 Text major ticklabel objects>)"
      ]
     },
     "execution_count": 85,
     "metadata": {},
     "output_type": "execute_result"
    },
    {
     "data": {
      "image/png": "[encoded data removed]",
      "text/plain": [
       "<Figure size 864x576 with 1 Axes>"
      ]
     },
     "metadata": {
      "needs_background": "light"
     },
     "output_type": "display_data"
    }
   ],
   "source": [
    "#строим графики\n",
    "sns.barplot(x='Segment', y='number_of_clients', data=for_grafic) \n",
    "plt.rcParams['figure.figsize'] = (12, 8)\n",
    "plt.xticks(rotation=90)"
   ]
  },
  {
   "cell_type": "code",
   "execution_count": 86,
   "metadata": {},
   "outputs": [
    {
     "data": {
      "text/plain": [
       "array([[<matplotlib.axes._subplots.AxesSubplot object at 0x7fa9ade1cb38>]],\n",
       "      dtype=object)"
      ]
     },
     "execution_count": 86,
     "metadata": {},
     "output_type": "execute_result"
    },
    {
     "data": {
      "image/png": "[encoded data removed]",
      "text/plain": [
       "<Figure size 864x576 with 1 Axes>"
      ]
     },
     "metadata": {
      "needs_background": "light"
     },
     "output_type": "display_data"
    }
   ],
   "source": [
    "RFM.groupby('customer_unique_id').agg({'M':'sum'}).hist()"
   ]
  },
  {
   "cell_type": "code",
   "execution_count": 87,
   "metadata": {},
   "outputs": [
    {
     "data": {
      "text/plain": [
       "count    93345.000000\n",
       "mean       137.419858\n",
       "std        210.452572\n",
       "min          0.850000\n",
       "25%         45.900000\n",
       "50%         86.900000\n",
       "75%        149.900000\n",
       "max      13440.000000\n",
       "Name: M, dtype: float64"
      ]
     },
     "execution_count": 87,
     "metadata": {},
     "output_type": "execute_result"
    }
   ],
   "source": [
    "RFM.M.describe()"
   ]
  },
  {
   "cell_type": "code",
   "execution_count": 88,
   "metadata": {},
   "outputs": [
    {
     "data": {
      "text/plain": [
       "0    59.9\n",
       "dtype: float64"
      ]
     },
     "execution_count": 88,
     "metadata": {},
     "output_type": "execute_result"
    }
   ],
   "source": [
    "RFM.M.mode()"
   ]
  },
  {
   "cell_type": "code",
   "execution_count": 89,
   "metadata": {},
   "outputs": [
    {
     "data": {
      "text/plain": [
       "(array([0, 1, 2, 3]), <a list of 4 Text major ticklabel objects>)"
      ]
     },
     "execution_count": 89,
     "metadata": {},
     "output_type": "execute_result"
    },
    {
     "data": {
      "image/png": "[encoded data removed]",
      "text/plain": [
       "<Figure size 864x576 with 1 Axes>"
      ]
     },
     "metadata": {
      "needs_background": "light"
     },
     "output_type": "display_data"
    }
   ],
   "source": [
    "R = RFM.groupby('R_score', as_index = False).agg({'customer_unique_id':'count'})\n",
    "#строим графики\n",
    "sns.barplot(x='R_score', y='customer_unique_id', data=R) \n",
    "plt.rcParams['figure.figsize'] = (12, 8)\n",
    "plt.xticks(rotation=90)"
   ]
  },
  {
   "cell_type": "markdown",
   "metadata": {},
   "source": [
    "Исходя из результатов, полученных после анализа представленных данных, можно сделать вывод, что, хоть общее число покупателей и растет со временем, подавляющее число пользователей делают покупки единоразово. Повторные покупки совершают около 3% пользователей,  на крайне низкую 'возвращаемость' указывает также показатель Retention. \n",
    "\n",
    "Большинство пользователей делают покупки на сумму менее 100 долларов (наиболее частая сумма покупки - 59.9 долл., медианный чек - 86,9 долл., средний чек 137,4 долл).\n",
    "\n",
    "Стоит провести опрос клиентов, взаимодействовавших с магазином, чтобы разработать стратегию, по повышению уровня лояльности, выяснить причину, почему покупатели не возвращаются (возможно наладить логистику, т.к. было зафиксировано, что с ней не все в порядке и около 40% заказов в месяц имеют статус недоступен или отменен).\n",
    "Либо единичные покупки могут обьясняться спецификой продаваемого товара, и, в таком случае, стоит разработать рекламную компанию, которая могла бы повысить спрос на товары более высокого класса и цены (хотя, учитывая разброс цен на товары и существующую 'сезонность' по дням недели, скорее всего, магазин продает широкий ассортимент разнообразных товаров).  "
   ]
  },
  {
   "cell_type": "code",
   "execution_count": null,
   "metadata": {},
   "outputs": [],
   "source": []
  }
 ],
 "metadata": {
  "kernelspec": {
   "display_name": "Python 3",
   "language": "python",
   "name": "python3"
  },
  "language_info": {
   "codemirror_mode": {
    "name": "ipython",
    "version": 3
   },
   "file_extension": ".py",
   "mimetype": "text/x-python",
   "name": "python",
   "nbconvert_exporter": "python",
   "pygments_lexer": "ipython3",
   "version": "3.7.3"
  }
 },
 "nbformat": 4,
 "nbformat_minor": 4
}
